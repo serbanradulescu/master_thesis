{
 "cells": [
  {
   "cell_type": "markdown",
   "id": "d4f35c39",
   "metadata": {},
   "source": [
    "------------------------------------------------------------------------------------------------------------------------\n",
    "\n",
    "This is the results part of the project. In here functions are declared and described. If you want to see them applied and the results, please go to:\n",
    "\n",
    " ### __[Results](https://github.com/serbanradulescu/master_thesis/blob/main/project.ipynb)__ |  Code \n",
    "------------------------------------------------------------------------------------------------------------------------"
   ]
  },
  {
   "cell_type": "code",
   "execution_count": 3,
   "id": "cad1a2db",
   "metadata": {},
   "outputs": [
    {
     "ename": "ModuleNotFoundError",
     "evalue": "No module named 'Shapely'",
     "output_type": "error",
     "traceback": [
      "\u001b[0;31m---------------------------------------------------------------------------\u001b[0m",
      "\u001b[0;31mModuleNotFoundError\u001b[0m                       Traceback (most recent call last)",
      "\u001b[1;32m/Users/serbanradulescu/Documents/master_thesis/code.ipynb Cell 2'\u001b[0m in \u001b[0;36m<cell line: 6>\u001b[0;34m()\u001b[0m\n\u001b[1;32m      <a href='vscode-notebook-cell:/Users/serbanradulescu/Documents/master_thesis/code.ipynb#ch0000001?line=3'>4</a>\u001b[0m \u001b[39mimport\u001b[39;00m \u001b[39mpandas\u001b[39;00m \u001b[39mas\u001b[39;00m \u001b[39mpd\u001b[39;00m\n\u001b[1;32m      <a href='vscode-notebook-cell:/Users/serbanradulescu/Documents/master_thesis/code.ipynb#ch0000001?line=4'>5</a>\u001b[0m \u001b[39mimport\u001b[39;00m \u001b[39mmatplotlib\u001b[39;00m\n\u001b[0;32m----> <a href='vscode-notebook-cell:/Users/serbanradulescu/Documents/master_thesis/code.ipynb#ch0000001?line=5'>6</a>\u001b[0m \u001b[39mimport\u001b[39;00m \u001b[39mShapely\u001b[39;00m\n\u001b[1;32m      <a href='vscode-notebook-cell:/Users/serbanradulescu/Documents/master_thesis/code.ipynb#ch0000001?line=6'>7</a>\u001b[0m \u001b[39mimport\u001b[39;00m \u001b[39mgeopandas\u001b[39;00m\n\u001b[1;32m      <a href='vscode-notebook-cell:/Users/serbanradulescu/Documents/master_thesis/code.ipynb#ch0000001?line=7'>8</a>\u001b[0m \u001b[39mfrom\u001b[39;00m \u001b[39mIPython\u001b[39;00m\u001b[39m.\u001b[39;00m\u001b[39mdisplay\u001b[39;00m \u001b[39mimport\u001b[39;00m display, HTML\n",
      "\u001b[0;31mModuleNotFoundError\u001b[0m: No module named 'Shapely'"
     ]
    }
   ],
   "source": [
    "import re\n",
    "import wget\n",
    "import requests\n",
    "import pandas as pd\n",
    "import matplotlib\n",
    "#import Shapely\n",
    "import geopandas as gpd\n",
    "import matplotlib.pyplot as plt\n",
    "from IPython.display import display, HTML\n",
    "from requests_html import HTMLSession\n",
    "from itertools import combinations\n",
    "from functools import lru_cache\n",
    "from typing import List, Tuple\n",
    "#from functions import get_date\n",
    "from zipfile import ZipFile\n",
    "from os.path import exists\n",
    "\n",
    "from time import sleep"
   ]
  },
  {
   "cell_type": "code",
   "execution_count": null,
   "id": "ef21cdbf",
   "metadata": {},
   "outputs": [],
   "source": [
    "@lru_cache\n",
    "def get_links(parameters:tuple[str], time:List[str] = [\"1_minute\",\"5_minutes\",\"10_minutes\",\"hourly\"]) -> dict:\n",
    "    dwd_links = {interval:{key: None for key in parameters} for interval in time}\n",
    "    for interval in time:\n",
    "        for parameter in parameters:\n",
    "            url = 'https://opendata.dwd.de/climate_environment/CDC/observations_germany/climate/' + str(interval) + '/' + parameter + '/historical/'\n",
    "            try:\n",
    "                session = HTMLSession()\n",
    "                response = session.get(url)\n",
    "                dwd_links[interval][parameter] = response.html.absolute_links\n",
    "\n",
    "            except requests.exceptions.RequestException as e:\n",
    "                print(e)\n",
    "    return dwd_links"
   ]
  },
  {
   "cell_type": "code",
   "execution_count": null,
   "id": "761ce15f",
   "metadata": {},
   "outputs": [],
   "source": [
    "def get_date(link:str) -> Tuple[int,int]:\n",
    "    \"\"\"Returns the years from when the data is available.\n",
    "\n",
    "    Args:\n",
    "        link (str): the link that has included the dails for the available data time\n",
    "\n",
    "    Returns:\n",
    "        Tuple[int,int]: start time, end time\n",
    "    \"\"\"\n",
    "    m = re.findall('\\d{8}', link)\n",
    "    if m:\n",
    "        return (int(m[0][:4]),int(m[1][:4]))\n",
    "    return (0,0)"
   ]
  },
  {
   "cell_type": "code",
   "execution_count": null,
   "id": "f0ab715d",
   "metadata": {},
   "outputs": [],
   "source": [
    "def count_datapoints(dwd_links:dict,time,parameter:str, start_year:int, end_year:int) -> int:\n",
    "    i=0\n",
    "    for link in dwd_links[time][parameter]:\n",
    "        try:\n",
    "            start_interval = int(get_date(link)[0])\n",
    "            end_interval = int(get_date(link)[1])\n",
    "            if ((start_interval <= start_year)  & (end_interval >= end_year)):\n",
    "                i = i+1\n",
    "        except:\n",
    "            pass\n",
    "    return i"
   ]
  },
  {
   "cell_type": "code",
   "execution_count": null,
   "id": "ed5e5fdc",
   "metadata": {},
   "outputs": [],
   "source": [
    "def show_available_data(dwd_links:dict,time, parameters: List[str]):\n",
    "    data_balance = pd.DataFrame(columns = parameters, index = [str(i) + \"'s - present\" for i in range(1950,2020,10)])\n",
    "    for parameter in parameters:\n",
    "        for i in range(1950,2020,10):\n",
    "            data_balance[parameter][str(i)+ \"'s - present\"] = count_datapoints(dwd_links,time,parameter, i, 2020)\n",
    "    display(data_balance)"
   ]
  },
  {
   "cell_type": "code",
   "execution_count": null,
   "id": "62f7de1b",
   "metadata": {},
   "outputs": [],
   "source": [
    "def ids_datapoints(dwd_links:dict,time:str,parameter:str, start_year:int, end_year:int) -> List[str]:\n",
    "    list = []\n",
    "    for link in dwd_links[time][parameter]:\n",
    "        try:\n",
    "            start_interval = int(get_date(link)[0])\n",
    "            end_interval = int(get_date(link)[1])\n",
    "            if ((start_interval <= start_year)  & (end_interval >= end_year)):\n",
    "                id = re.findall(\"_\\d{5}_\",str(link))[0]\n",
    "                ##print(\"link\")\n",
    "                list.append(id[1:-1])\n",
    "        except:\n",
    "            pass\n",
    "    return list\n",
    "\n",
    "parameters =(\"air_temperature\",\"dew_point\", \"moisture\", \"precipitation\")\n",
    "dwd_links = get_links(parameters)"
   ]
  },
  {
   "cell_type": "code",
   "execution_count": null,
   "id": "6901f1df",
   "metadata": {},
   "outputs": [
    {
     "name": "stdout",
     "output_type": "stream",
     "text": [
      "24\n"
     ]
    }
   ],
   "source": [
    "def common_stations(paramer1:str, parameter2:str, time:str, interval: List[int]):\n",
    "    print(common_stations)\n",
    "    print(f\"{paramer1} and {parameter2} have the following number of stations that measured in:\")\n",
    "    full_list = []\n",
    "    for i in interval:\n",
    "        list1 = ids_datapoints(dwd_links,time,paramer1,i,2020)\n",
    "        list2 = ids_datapoints(dwd_links,time,parameter2,i,2020)\n",
    "        list1_as_set = set(list1)\n",
    "        intersection = list1_as_set.intersection(list2)\n",
    "        intersection_as_list = List(intersection)\n",
    "        full_list = full_list + intersection_as_list\n",
    "        print(str(i) + \" - present\" + \": \" + str(len(intersection_as_list)))        \n",
    "    return full_list\n",
    "\n",
    "def simple_common_stations(ids_parameter1: List[int],ids_parameter2: List[int]):\n",
    "    list1_as_set = set(ids_parameter1)\n",
    "    intersection = list1_as_set.intersection(ids_parameter2)\n",
    "    intersection_as_list = list(intersection)\n",
    "    return intersection_as_list\n",
    "\n",
    "moisture_air_t = simple_common_stations(ids_datapoints(dwd_links,\"hourly\",\"moisture\",1950,2020),ids_datapoints(dwd_links,\"hourly\",\"air_temperature\",1950,2020))\n",
    "print(len(simple_common_stations(moisture_air_t,ids_datapoints(dwd_links,\"hourly\",\"dew_point\",1950,2020))))\n",
    "\n",
    "def complex_common_stations(parameters:List[str],time:str, interval: List[int]):\n",
    "    ids =[{i:{parameter:ids_datapoints(dwd_links,time,parameter,i,2020)}} for parameter in parameters for i in interval]\n",
    "    for i in range(0,len(interval)):\n",
    "        print(ids[i])\n",
    "    for i in range(2, len(parameters)+1):\n",
    "        combined = combinations(parameters, i)\n",
    "        #print(\" \".join(str(e) for e in combined) )\n",
    "        #for j in combined:\n",
    "            #print(ids)\n",
    "        #print(set.intersection(*[set(list) for list in p]))       \n",
    "\n",
    "#complex_common_stations([\"moisture\", \"dew_point\", \"air_temperature\"],\"hourly\", range(1950,2020,10))\n"
   ]
  },
  {
   "cell_type": "code",
   "execution_count": null,
   "id": "a054ce69",
   "metadata": {},
   "outputs": [],
   "source": [
    "def create_df(parameter,time,start_year,end_year, is_test = True):\n",
    "    test_count = 0\n",
    "    if(is_test):\n",
    "        limit =4\n",
    "    else:\n",
    "        limit = 99999\n",
    "    df = pd.DataFrame()\n",
    "    for link in dwd_links[time][parameter]:   \n",
    "        if (test_count <= limit):\n",
    "            test_count+=1\n",
    "            filename = str.split(link,\"/\")[-1]\n",
    "            \n",
    "            if(not exists(\"downloads/\" + time + \"/\" + parameter + \"/\" + filename)):\n",
    "                file_zip = wget.download(link,\"downloads/\"+time+\"/\" + parameter + \"/\")\n",
    "                print(\"downloading\" + filename + \"...\",end = \" \", flush=True)\n",
    "            else:\n",
    "                file_zip = \"downloads/\"+ time+ \"/\" + parameter + \"/\" + filename\n",
    "                print(\"FOUND \"+ filename, end =\" \", flush=True)\n",
    "                sleep(1)\n",
    "            try:    \n",
    "                with ZipFile(file_zip) as myzip:\n",
    "                    for filename in myzip.namelist():\n",
    "                        if \"Metadat\" not in filename:\n",
    "                            with myzip.open(filename) as myfile:\n",
    "                                this_df = pd.read_csv(myfile, sep =\";\")\n",
    "                                \n",
    "                                df = pd.concat([df,this_df])\n",
    "            except:\n",
    "                print(\"Not able to open:\",filename, \"Reason: unknown.\")\n",
    "    return df\n",
    "\n"
   ]
  },
  {
   "cell_type": "code",
   "execution_count": null,
   "id": "89d6b2e3",
   "metadata": {},
   "outputs": [
    {
     "ename": "NameError",
     "evalue": "name 'List' is not defined",
     "output_type": "error",
     "traceback": [
      "\u001b[0;31m---------------------------------------------------------------------------\u001b[0m",
      "\u001b[0;31mNameError\u001b[0m                                 Traceback (most recent call last)",
      "\u001b[1;32m/Users/serbanradulescu/Documents/master_thesis/code.ipynb Cell 10'\u001b[0m in \u001b[0;36m<cell line: 1>\u001b[0;34m()\u001b[0m\n\u001b[0;32m----> <a href='vscode-notebook-cell:/Users/serbanradulescu/Documents/master_thesis/code.ipynb#ch0000013?line=0'>1</a>\u001b[0m \u001b[39mdef\u001b[39;00m \u001b[39mcoordinates_stations\u001b[39m(ids:List[\u001b[39mstr\u001b[39m], path_info:\u001b[39mstr\u001b[39m ):\n\u001b[1;32m      <a href='vscode-notebook-cell:/Users/serbanradulescu/Documents/master_thesis/code.ipynb#ch0000013?line=1'>2</a>\u001b[0m     df \u001b[39m=\u001b[39m pd\u001b[39m.\u001b[39mread_csv(path_info, header\u001b[39m=\u001b[39m\u001b[39mNone\u001b[39;00m, names\u001b[39m=\u001b[39m[\u001b[39m\"\u001b[39m\u001b[39mraw\u001b[39m\u001b[39m\"\u001b[39m], sep \u001b[39m=\u001b[39m \u001b[39m\"\u001b[39m\u001b[39m;\u001b[39m\u001b[39m\"\u001b[39m, encoding \u001b[39m=\u001b[39m \u001b[39m\"\u001b[39m\u001b[39mlatin1\u001b[39m\u001b[39m\"\u001b[39m, skiprows\u001b[39m=\u001b[39m\u001b[39m2\u001b[39m)\n\u001b[1;32m      <a href='vscode-notebook-cell:/Users/serbanradulescu/Documents/master_thesis/code.ipynb#ch0000013?line=2'>3</a>\u001b[0m     \u001b[39m#df[\"id\"] = df[\"raw\"].apply(lambda x: x[0:5])\u001b[39;00m\n",
      "\u001b[0;31mNameError\u001b[0m: name 'List' is not defined"
     ]
    }
   ],
   "source": [
    "def coordinates_stations(ids:List[str], path_info:str ):\n",
    "    df = pd.read_csv(path_info, header=None, names=[\"raw\"], sep = \";\", encoding = \"latin1\", skiprows=2)\n",
    "    #df[\"id\"] = df[\"raw\"].apply(lambda x: x[0:5])\n",
    "    df[\"id\"] = df[\"raw\"].str.extract(r'(\\d{5})')\n",
    "    #df[\"period\"] = df[\"raw\"].str.findall(r'(\\d{8})')\n",
    "    #df[\"height\"] = df[\"raw\"].str.extract(r'(\\s+\\d{1,3}\\s+)')\n",
    "    df[\"coord\"] = df[\"raw\"].str.findall(r'(\\d{1,2}\\.{1}\\d{4})')\n",
    "    df[['lat','lon']] = pd.DataFrame(df.coord.tolist(), index= df.index)\n",
    "    #df[\"lat\"] = float(df[\"lat\"])\n",
    "\n",
    "    processed_df = df[[\"id\",\"lat\",\"lon\"]]\n",
    "    if ids == None:\n",
    "        return processed_df\n",
    "    else:\n",
    "        return processed_df[processed_df[\"id\"].isin(ids)]"
   ]
  },
  {
   "cell_type": "markdown",
   "id": "e0c09579",
   "metadata": {},
   "source": [
    "### The following code is written just to email me when the files are downloaded/models are trained"
   ]
  },
  {
   "cell_type": "markdown",
   "id": "f6321219",
   "metadata": {},
   "source": []
  },
  {
   "cell_type": "code",
   "execution_count": null,
   "id": "80618e87",
   "metadata": {},
   "outputs": [],
   "source": [
    "import smtplib, ssl, os\n",
    "\n",
    "def mail_me():\n",
    "    port = 465  # For SSL\n",
    "    smtp_server = \"smtp.gmail.com\"\n",
    "    sender_email = \"computersays521@gmail.com\"  # Enter your address\n",
    "    receiver_email = \"radulescu_serban_petre@yahoo.com\"  # Enter receiver address\n",
    "    password = open(\"mailingfile.txt\",\"r\").readlines()[0]\n",
    "    message = \"\"\"\\\n",
    "    Subject: Hi there\n",
    "\n",
    "    It seems that what you were working on is done. Or you had some errors. Either way the program is completed. \"\"\"\n",
    "\n",
    "    context = ssl.create_default_context()\n",
    "    with smtplib.SMTP_SSL(smtp_server, port, context=context) as server:\n",
    "        server.login(sender_email, password)\n",
    "        server.sendmail(sender_email, receiver_email, message)"
   ]
  },
  {
   "cell_type": "code",
   "execution_count": null,
   "id": "fec4c299",
   "metadata": {},
   "outputs": [],
   "source": []
  }
 ],
 "metadata": {
  "hide_input": false,
  "interpreter": {
   "hash": "8488b1165f104a905cf6677a9ffc3532c3736b5873a3271a01fb03afba4b3bc1"
  },
  "kernelspec": {
   "display_name": "Python 3.9.12 ('thesis')",
   "language": "python",
   "name": "python3"
  },
  "language_info": {
   "codemirror_mode": {
    "name": "ipython",
    "version": 3
   },
   "file_extension": ".py",
   "mimetype": "text/x-python",
   "name": "python",
   "nbconvert_exporter": "python",
   "pygments_lexer": "ipython3",
   "version": "3.9.12"
  }
 },
 "nbformat": 4,
 "nbformat_minor": 5
}
