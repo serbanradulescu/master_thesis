{
 "cells": [
  {
   "cell_type": "markdown",
   "id": "d4f35c39",
   "metadata": {},
   "source": [
    "This is the results part of the project. In here functions are declared and described. If you want to see them applied and the results, please go to:\n",
    "\n",
    " __[Results](https://github.com/serbanradulescu/master_thesis/blob/main/project.ipynb)__ |  Code "
   ]
  },
  {
   "cell_type": "code",
   "execution_count": 159,
   "id": "cad1a2db",
   "metadata": {},
   "outputs": [],
   "source": [
    "import re\n",
    "import wget\n",
    "import requests\n",
    "import pandas as pd\n",
    "from IPython.display import display, HTML\n",
    "from requests_html import HTMLSession\n",
    "from itertools import combinations\n",
    "from functools import lru_cache\n",
    "from typing import List, Tuple\n",
    "from functions import get_date\n",
    "from zipfile import ZipFile\n",
    "from os.path import exists\n",
    "\n",
    "from time import sleep"
   ]
  },
  {
   "cell_type": "code",
   "execution_count": 160,
   "id": "ef21cdbf",
   "metadata": {},
   "outputs": [],
   "source": [
    "@lru_cache\n",
    "def get_links(parameters:tuple[str], time:List[str] = [\"1_minute\",\"5_minutes\",\"10_minutes\",\"hourly\"]) -> dict:\n",
    "    dwd_links = {interval:{key: None for key in parameters} for interval in time}\n",
    "    for interval in time:\n",
    "        for parameter in parameters:\n",
    "            url = 'https://opendata.dwd.de/climate_environment/CDC/observations_germany/climate/' + str(interval) + '/' + parameter + '/historical/'\n",
    "            try:\n",
    "                session = HTMLSession()\n",
    "                response = session.get(url)\n",
    "                dwd_links[interval][parameter] = response.html.absolute_links\n",
    "\n",
    "            except requests.exceptions.RequestException as e:\n",
    "                print(e)\n",
    "    return dwd_links"
   ]
  },
  {
   "cell_type": "code",
   "execution_count": 161,
   "id": "761ce15f",
   "metadata": {},
   "outputs": [],
   "source": [
    "def get_date(link:str) -> Tuple[int,int]:\n",
    "    \"\"\"Returns the years from when the data is available.\n",
    "\n",
    "    Args:\n",
    "        link (str): the link that has included the dails for the available data time\n",
    "\n",
    "    Returns:\n",
    "        Tuple[int,int]: start time, end time\n",
    "    \"\"\"\n",
    "    m = re.findall('\\d{8}', link)\n",
    "    if m:\n",
    "        return (int(m[0][:4]),int(m[1][:4]))\n",
    "    return (0,0)"
   ]
  },
  {
   "cell_type": "code",
   "execution_count": 162,
   "id": "f0ab715d",
   "metadata": {},
   "outputs": [],
   "source": [
    "def count_datapoints(dwd_links:dict,time,parameter:str, start_year:int, end_year:int) -> int:\n",
    "    i=0\n",
    "    for link in dwd_links[time][parameter]:\n",
    "        try:\n",
    "            start_interval = int(get_date(link)[0])\n",
    "            end_interval = int(get_date(link)[1])\n",
    "            if ((start_interval <= start_year)  & (end_interval >= end_year)):\n",
    "                i = i+1\n",
    "        except:\n",
    "            pass\n",
    "    return i"
   ]
  },
  {
   "cell_type": "code",
   "execution_count": 163,
   "id": "ed5e5fdc",
   "metadata": {},
   "outputs": [],
   "source": [
    "def show_available_data(dwd_links:dict,time, parameters: List[str]):\n",
    "    data_balance = pd.DataFrame(columns = parameters, index = [str(i) + \"'s - present\" for i in range(1950,2020,10)])\n",
    "    for parameter in parameters:\n",
    "        for i in range(1950,2020,10):\n",
    "            data_balance[parameter][str(i)+ \"'s - present\"] = count_datapoints(dwd_links,time,parameter, i, 2020)\n",
    "    display(data_balance)"
   ]
  },
  {
   "cell_type": "code",
   "execution_count": 164,
   "id": "62f7de1b",
   "metadata": {},
   "outputs": [],
   "source": [
    "def ids_datapoints(dwd_links:dict,time:str,parameter:str, start_year:int, end_year:int) -> List[str]:\n",
    "    list = []\n",
    "    for link in dwd_links[time][parameter]:\n",
    "        try:\n",
    "            start_interval = int(get_date(link)[0])\n",
    "            end_interval = int(get_date(link)[1])\n",
    "            if ((start_interval <= start_year)  & (end_interval >= end_year)):\n",
    "                id = re.findall(\"_\\d{5}_\",str(link))[0]\n",
    "                ##print(\"link\")\n",
    "                list.append(id[2:-1])\n",
    "        except:\n",
    "            pass\n",
    "    return list\n",
    "\n",
    "parameters =(\"air_temperature\",\"dew_point\", \"moisture\", \"precipitation\")\n",
    "dwd_links = get_links(parameters)"
   ]
  },
  {
   "cell_type": "code",
   "execution_count": 189,
   "id": "6901f1df",
   "metadata": {},
   "outputs": [
    {
     "name": "stdout",
     "output_type": "stream",
     "text": [
      "{1950: {'moisture': ['1443', '0891', '1691', '5397', '1346', '0433', '3032', '3730', '1303', '0953', '3761', '3093', '1078', '2559', '0460', '1550', '0691', '2638', '3167', '2601', '3631', '5371', '4104', '0656', '0701', '4931', '0282', '2014', '5792', '0867', '2261', '2290', '4371', '5440', '2667', '4336', '4887', '1468', '0662', '1639', '3668', '5100', '1420', '2597', '5705', '5906', '0232', '1975']}}\n",
      "{1960: {'moisture': ['2171', '1443', '0891', '0403', '1691', '5397', '1346', '0433', '3032', '2712', '3730', '5426', '1303', '0953', '3761', '3093', '1078', '2559', '0460', '1550', '0691', '2638', '3167', '2601', '3631', '5371', '4104', '2115', '0656', '0701', '2483', '4931', '0282', '2014', '5792', '0867', '4466', '2261', '2290', '4371', '3366', '5440', '2667', '4336', '4887', '1468', '0662', '1639', '3668', '5100', '1420', '4745', '2597', '5705', '5906', '0232', '1975']}}\n",
      "{1970: {'moisture': ['2171', '3254', '1443', '0891', '0403', '1691', '5397', '0430', '1346', '0433', '3032', '2712', '3730', '5426', '1303', '0953', '3761', '3093', '1078', '2559', '0460', '1550', '0691', '2638', '3167', '2601', '3631', '5371', '4104', '2115', '0656', '0701', '2483', '4931', '0282', '2014', '5792', '0867', '4466', '2261', '2290', '4371', '3366', '5440', '2667', '4336', '4887', '1468', '0662', '1639', '3668', '5100', '1420', '4745', '2597', '5705', '5906', '0232', '1975']}}\n",
      "{1980: {'moisture': ['0044', '1270', '1544', '2171', '3254', '5715', '5142', '5629', '1443', '0891', '1587', '0403', '3126', '1691', '3946', '5397', '0430', '1346', '3028', '0433', '4625', '1358', '2961', '3032', '2712', '3730', '5426', '0853', '2905', '1684', '1303', '0596', '0953', '3761', '3093', '5009', '1078', '2559', '0460', '1550', '5347', '0691', '2023', '2638', '2932', '3167', '2601', '5640', '5800', '3631', '5371', '4104', '2115', '0656', '0427', '0701', '2483', '4931', '3015', '0282', '2014', '5792', '0867', '4466', '2261', '5490', '2290', '4371', '3231', '3366', '5440', '2667', '3484', '0198', '3987', '1001', '2907', '4336', '0856', '2925', '1612', '0722', '5779', '3196', '2437', '4887', '1468', '0662', '0102', '0164', '0954', '3362', '1639', '0183', '3668', '1666', '2564', '1048', '5100', '3379', '2303', '4642', '5029', '1757', '1420', '4745', '2597', '5705', '0766', '5906', '4271', '0591', '3639', '0232', '3623', '1975', '4501', '5480']}}\n",
      "{1990: {'moisture': ['0044', '1270', '3821', '1544', '2171', '3254', '5715', '5142', '5629', '1443', '0891', '1587', '1605', '0403', '4464', '3126', '1691', '3946', '5397', '0430', '1346', '3028', '0433', '4625', '1358', '2961', '3032', '2712', '3730', '5426', '0853', '0222', '2905', '1684', '1303', '3513', '0596', '0953', '3086', '3761', '3093', '5009', '1078', '2559', '0460', '1550', '5347', '0691', '2023', '2638', '2932', '3167', '2601', '5640', '5800', '3631', '5371', '1766', '4104', '4928', '2115', '0656', '0427', '0701', '2483', '4931', '3166', '3015', '3897', '0282', '2014', '0704', '5792', '2886', '2044', '0867', '3811', '4466', '1832', '0880', '2261', '1200', '5490', '2290', '4371', '3231', '3366', '5440', '1228', '2667', '4445', '3484', '5930', '0198', '3987', '1001', '2907', '4336', '0856', '2925', '1612', '0722', '5779', '3196', '2437', '4887', '1468', '0298', '0662', '3287', '3158', '5546', '0840', '2794', '0102', '0164', '0954', '3362', '1639', '0183', '3668', '1580', '4024', '1666', '2564', '1048', '5100', '3379', '2303', '4642', '5029', '1757', '1420', '4745', '2597', '5705', '0766', '5906', '4271', '0591', '3639', '0232', '3623', '1975', '4501', '1694', '5480', '5158', '1869']}}\n",
      "{2000: {'moisture': ['0044', '1270', '3821', '1759', '1544', '5109', '2171', '3254', '5715', '5142', '5629', '1443', '1339', '0891', '1587', '1605', '0403', '4464', '2429', '0368', '6197', '3126', '1691', '0603', '3946', '5397', '0430', '1346', '3028', '0850', '0433', '2315', '4625', '1358', '2961', '3032', '2712', '3730', '5426', '0853', '0222', '2905', '1684', '1303', '3513', '0596', '0953', '3086', '3761', '3093', '5009', '1078', '2559', '0460', '1550', '5347', '0691', '2023', '2638', '2932', '3167', '2601', '5640', '5800', '3631', '5371', '4280', '2812', '2796', '1766', '4104', '4928', '2115', '0656', '0427', '0701', '2483', '4931', '3166', '3015', '3897', '0282', '2014', '0704', '5792', '2886', '2044', '0867', '3811', '4466', '5856', '1832', '2385', '0880', '2261', '1200', '5490', '2290', '4371', '2410', '3231', '3366', '5440', '1228', '2667', '4445', '3484', '5930', '5516', '0198', '3987', '1001', '2907', '0769', '4336', '3660', '6163', '0856', '0125', '5839', '2925', '1612', '0722', '5779', '3196', '4911', '2437', '4887', '1468', '0298', '0662', '4039', '3287', '3158', '5546', '2773', '5349', '0840', '2794', '0102', '2985', '5871', '0164', '4393', '0954', '3098', '3362', '1639', '0183', '3668', '1580', '4024', '1666', '2564', '1048', '5100', '3379', '2303', '4642', '0303', '5029', '1757', '1420', '4745', '2597', '5705', '0766', '1504', '3603', '5906', '4271', '0591', '3639', '2928', '0963', '0232', '1262', '3623', '1975', '4501', '1694', '3268', '5480', '5158', '1869']}}\n",
      "{2010: {'moisture': ['0044', '6310', '1270', '2252', '2323', '3821', '1759', '1544', '7099', '3710', '5109', '4703', '2708', '5099', '4841', '2171', '3254', '3696', '5715', '2856', '5142', '5404', '2039', '5629', '3591', '1443', '3485', '1339', '6157', '1266', '4301', '0891', '1587', '2575', '3348', '5149', '4094', '1605', '5229', '0403', '3426', '0142', '1052', '6305', '7105', '4377', '4464', '2429', '0368', '6197', '3307', '3711', '7368', '7432', '3126', '2362', '2110', '3340', '3545', '1691', '0603', '1297', '3946', '5397', '7374', '2627', '4896', '0430', '6170', '1346', '4560', '1526', '3028', '5797', '0850', '0433', '2814', '2315', '6262', '7341', '7330', '1207', '4625', '1358', '0400', '3226', '0191', '3713', '0617', '7370', '6159', '5825', '7321', '2961', '3490', '2578', '3032', '2712', '7431', '3730', '4548', '4354', '5426', '0853', '0222', '2905', '6263', '1684', '6158', '1303', '3513', '6266', '0596', '0953', '2074', '3667', '3086', '4411', '3137', '3761', '0167', '3442', '1214', '7187', '3093', '5009', '1078', '2559', '1300', '6217', '2444', '0460', '1721', '4275', '6337', '0991', '1550', '6093', '1107', '3509', '1411', '7350', '5133', '4177', '5347', '7419', '0691', '5750', '2023', '3271', '5014', '2486', '4287', '7389', '2641', '2638', '2932', '3284', '3167', '0917', '2601', '4036', '0755', '5640', '1197', '2680', '1424', '4997', '5064', '4559', '5800', '2750', '3631', '5371', '4280', '2812', '2704', '1332', '3734', '7394', '3670', '2796', '6273', '4651', '5562', '1451', '2700', '5717', '1766', '5300', '4104', '2201', '4928', '2115', '0656', '5822', '3376', '0427', '0131', '4349', '0701', '5017', '2483', '4931', '3166', '3679', '1735', '7364', '1103', '3015', '3897', '7412', '1224', '0282', '3836', '2014', '7331', '0704', '1736', '4857', '3155', '1803', '7106', '5792', '6258', '2886', '2044', '2211', '0867', '0073', '0154', '4160', '1584', '3257', '3811', '4466', '0410', '3612', '5941', '5856', '0330', '2951', '5643', '0757', '1832', '2385', '2953', '0880', '3875', '2497', '0091', '2968', '2261', '1981', '3244', '6129', '7396', '1200', '5490', '2290', '4371', '6346', '2410', '1327', '7319', '4032', '7367', '4063', '1964', '3231', '3366', '6312', '4878', '7351', '5440', '2629', '1228', '2667', '0979', '4189', '3925', '0420', '0342', '4445', '5280', '1072', '3484', '3571', '1051', '4763', '5930', '1602', '3675', '6314', '7393', '5516', '4480', '5279', '0198', '6260', '4978', '5692', '0896', '3975', '6265', '3987', '1001', '2907', '3031', '0071', '0150', '0769', '5111', '4336', '3660', '0257', '6163', '7369', '0856', '6259', '2319', '0125', '3204', '1357', '1863', '1255', '5839', '0390', '6272', '5745', '2925', '5424', '1612', '0722', '5538', '5676', '4175', '3904', '7428', '5046', '3540', '5779', '3196', '0078', '3939', '0817', '3164', '5146', '3319', '2480', '2306', '3674', '4127', '4911', '1161', '4605', '2437', '4508', '4887', '1468', '7329', '6264', '3527', '0298', '6199', '3289', '0662', '4039', '3287', '0320', '3034', '5433', '3158', '5546', '3234', '2773', '7298', '5349', '4300', '5335', '3083', '0840', '2794', '0259', '6275', '0102', '2985', '5871', '6109', '0164', '5664', '6105', '4393', '0954', '3098', '4323', '3362', '1639', '4592', '0183', '3668', '1580', '2947', '4024', '6344', '7373', '0294', '1050', '1590', '1666', '3621', '3042', '6347', '2564', '4169', '3278', '1048', '0983', '5100', '7427', '7403', '3379', '2303', '4706', '4642', '0303', '3700', '7420', '0151', '5029', '1757', '7424', '1420', '4745', '2597', '6336', '1645', '5705', '3927', '0766', '1504', '1279', '3965', '5275', '5541', '3603', '5906', '4271', '0314', '2600', '0591', '7395', '3639', '2928', '3402', '2174', '0963', '0232', '1262', '3739', '4704', '3857', '3623', '0377', '1975', '2618', '5731', '5097', '4501', '1694', '7075', '0445', '0535', '3268', '5480', '5158', '3777', '1869', '4261', '7343', '0217']}}\n"
     ]
    }
   ],
   "source": [
    "def common_stations(paramer1:str, parameter2:str, time:str, interval: List[int]):\n",
    "    print(common_stations)\n",
    "    print(f\"{paramer1} and {parameter2} have the following number of stations that measured in:\")\n",
    "    full_list = []\n",
    "    for i in interval:\n",
    "        list1 = ids_datapoints(dwd_links,time,paramer1,i,2020)\n",
    "        list2 = ids_datapoints(dwd_links,time,parameter2,i,2020)\n",
    "        list1_as_set = set(list1)\n",
    "        intersection = list1_as_set.intersection(list2)\n",
    "        intersection_as_list = list(intersection)\n",
    "        full_list = full_list + intersection_as_list\n",
    "        print(str(i) + \" - present\" + \": \" + str(len(intersection_as_list)))\n",
    "        \n",
    "    return full_list\n",
    "\n",
    "def complex_common_stations(parameters:List[str],time:str, interval: List[int]):\n",
    "    ids =[{i:{parameter:ids_datapoints(dwd_links,time,parameter,i,2020)}} for parameter in parameters for i in interval]\n",
    "    for i in range(0,len(interval)):\n",
    "        print(ids[i])\n",
    "    for i in range(2, len(parameters)+1):\n",
    "        combined = combinations(parameters, i)\n",
    "        #print(\" \".join(str(e) for e in combined) )\n",
    "        #for j in combined:\n",
    "            #print(ids)\n",
    "        #print(set.intersection(*[set(list) for list in p]))       \n",
    "\n",
    "complex_common_stations([\"moisture\", \"dew_point\", \"air_temperature\"],\"hourly\", range(1950,2020,10))\n"
   ]
  },
  {
   "cell_type": "code",
   "execution_count": 166,
   "id": "a054ce69",
   "metadata": {},
   "outputs": [],
   "source": [
    "def create_df(parameter,time,start_year,end_year, is_test = True):\n",
    "    test_count = 0\n",
    "    if(is_test):\n",
    "        limit =4\n",
    "    else:\n",
    "        limit = 99999\n",
    "    df = pd.DataFrame()\n",
    "    for link in dwd_links[time][parameter]:   \n",
    "        if (test_count <= limit):\n",
    "            test_count+=1\n",
    "            filename = str.split(link,\"/\")[-1]\n",
    "            \n",
    "            if(not exists(\"downloads/\" + time + \"/\" + parameter + \"/\" + filename)):\n",
    "                file_zip = wget.download(link,\"downloads/\"+time+\"/\" + parameter + \"/\")\n",
    "                print(\"downloading\" + filename + \"...\",end = \" \", flush=True)\n",
    "            else:\n",
    "                file_zip = \"downloads/\"+ time+ \"/\" + parameter + \"/\" + filename\n",
    "                print(\"FOUND \"+ filename, end =\" \", flush=True)\n",
    "                sleep(1)\n",
    "            try:    \n",
    "                with ZipFile(file_zip) as myzip:\n",
    "                    for filename in myzip.namelist():\n",
    "                        if \"Metadat\" not in filename:\n",
    "                            with myzip.open(filename) as myfile:\n",
    "                                this_df = pd.read_csv(myfile, sep =\";\")\n",
    "                                \n",
    "                                df = pd.concat([df,this_df])\n",
    "            except:\n",
    "                print(\"Not able to open:\",filename, \"Reason: unknown.\")\n",
    "    return df\n",
    "\n"
   ]
  },
  {
   "cell_type": "markdown",
   "id": "e0c09579",
   "metadata": {},
   "source": [
    "### The following code is written just to email me when the files are downloaded/models are trained"
   ]
  },
  {
   "cell_type": "markdown",
   "id": "f6321219",
   "metadata": {},
   "source": []
  },
  {
   "cell_type": "code",
   "execution_count": 167,
   "id": "80618e87",
   "metadata": {},
   "outputs": [],
   "source": [
    "import smtplib, ssl, os\n",
    "\n",
    "def mail_me():\n",
    "    port = 465  # For SSL\n",
    "    smtp_server = \"smtp.gmail.com\"\n",
    "    sender_email = \"computersays521@gmail.com\"  # Enter your address\n",
    "    receiver_email = \"radulescu_serban_petre@yahoo.com\"  # Enter receiver address\n",
    "    password = open(\"mailingfile.txt\",\"r\").readlines()[0]\n",
    "    message = \"\"\"\\\n",
    "    Subject: Hi there\n",
    "\n",
    "    It seems that what you were working on is done. Or you had some errors. Either way the program is completed. \"\"\"\n",
    "\n",
    "    context = ssl.create_default_context()\n",
    "    with smtplib.SMTP_SSL(smtp_server, port, context=context) as server:\n",
    "        server.login(sender_email, password)\n",
    "        server.sendmail(sender_email, receiver_email, message)"
   ]
  },
  {
   "cell_type": "code",
   "execution_count": null,
   "id": "fec4c299",
   "metadata": {},
   "outputs": [],
   "source": []
  }
 ],
 "metadata": {
  "hide_input": false,
  "interpreter": {
   "hash": "8488b1165f104a905cf6677a9ffc3532c3736b5873a3271a01fb03afba4b3bc1"
  },
  "kernelspec": {
   "display_name": "Python 3.9.12 ('thesis')",
   "language": "python",
   "name": "python3"
  },
  "language_info": {
   "codemirror_mode": {
    "name": "ipython",
    "version": 3
   },
   "file_extension": ".py",
   "mimetype": "text/x-python",
   "name": "python",
   "nbconvert_exporter": "python",
   "pygments_lexer": "ipython3",
   "version": "3.9.12"
  }
 },
 "nbformat": 4,
 "nbformat_minor": 5
}
