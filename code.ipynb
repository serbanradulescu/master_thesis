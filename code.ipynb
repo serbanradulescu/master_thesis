{
 "cells": [
  {
   "cell_type": "markdown",
   "id": "d4f35c39",
   "metadata": {},
   "source": [
    "------------------------------------------------------------------------------------------------------------------------\n",
    "\n",
    "This is the results part of the project. In here functions are declared and described. If you want to see them applied and the results, please go to:\n",
    "\n",
    " ### __[Results](https://github.com/serbanradulescu/master_thesis/blob/main/project.ipynb)__ |  Code \n",
    "------------------------------------------------------------------------------------------------------------------------"
   ]
  },
  {
   "cell_type": "code",
   "execution_count": 8,
   "id": "cad1a2db",
   "metadata": {},
   "outputs": [],
   "source": [
    "import re\n",
    "import wget\n",
    "import requests\n",
    "import pandas as pd\n",
    "import geopandas as gpd\n",
    "import matplotlib.pyplot as plt\n",
    "from IPython.display import display, HTML\n",
    "from requests_html import HTMLSession\n",
    "from itertools import combinations\n",
    "from functools import lru_cache\n",
    "from typing import List, Tuple\n",
    "from zipfile import ZipFile\n",
    "from os.path import exists\n",
    "from time import sleep"
   ]
  },
  {
   "cell_type": "code",
   "execution_count": 9,
   "id": "7e28cdac",
   "metadata": {},
   "outputs": [],
   "source": [
    "class Parameter:\n",
    "    def __init__(self, name):\n",
    "        self.name = name\n",
    "moisture = Parameter(\"moisture\")\n",
    "#print(moisture.name)\n",
    "\n",
    "class Parameters:\n",
    "    moisture = \"moisture\"\n",
    "#print(Parameters.moisture)"
   ]
  },
  {
   "cell_type": "code",
   "execution_count": 10,
   "id": "ef21cdbf",
   "metadata": {},
   "outputs": [],
   "source": [
    "@lru_cache #caching the return of the function for time optimisation; not sure if this function is supported in jupyter notebook\n",
    "def get_links(parameters:tuple[str], time:List[str] = [\"1_minute\",\"5_minutes\",\"10_minutes\",\"hourly\"]) -> dict:\n",
    "    \"\"\"Return the links from dwd corresponding to the parameters and timeframe we are interested\n",
    "\n",
    "    Args:\n",
    "        parameters (tuple[str]): a tuple with the parameters\n",
    "        time (List[str], optional): the timeframe. Defaults to [\"1_minute\",\"5_minutes\",\"10_minutes\",\"hourly\"].\n",
    "\n",
    "    Returns:\n",
    "        dict: a dictionary containing the links\n",
    "    \"\"\"\n",
    "    dwd_links = {interval:{key: None for key in parameters} for interval in time}\n",
    "    for interval in time:\n",
    "        for parameter in parameters:\n",
    "            url = 'https://opendata.dwd.de/climate_environment/CDC/observations_germany/climate/' + str(interval) + '/' + parameter + '/historical/'\n",
    "            try:\n",
    "                session = HTMLSession()\n",
    "                response = session.get(url)\n",
    "                dwd_links[interval][parameter] = response.html.absolute_links\n",
    "\n",
    "            except requests.exceptions.RequestException as e:\n",
    "                print(e)\n",
    "    return dwd_links"
   ]
  },
  {
   "cell_type": "code",
   "execution_count": 11,
   "id": "761ce15f",
   "metadata": {},
   "outputs": [],
   "source": [
    "def get_date(link:str) -> Tuple[int,int]:\n",
    "    \"\"\"Returns the years from when the data is available.\n",
    "\n",
    "    Args:\n",
    "        link (str): the link that has included the dails for the available data time\n",
    "\n",
    "    Returns:\n",
    "        Tuple[int,int]: start time, end time\n",
    "    \"\"\"\n",
    "    m = re.findall('\\d{8}', link)\n",
    "    if m:\n",
    "        return (int(m[0][:4]),int(m[1][:4]))\n",
    "    return (0,0)"
   ]
  },
  {
   "cell_type": "code",
   "execution_count": 12,
   "id": "f0ab715d",
   "metadata": {},
   "outputs": [],
   "source": [
    "def count_datapoints(dwd_links:dict,time,parameter:str, start_year:int, end_year:int) -> int:\n",
    "    \"\"\"Counting the datapoints for a certain parameter\n",
    "\n",
    "    Args:\n",
    "        dwd_links (dict): source of data (dwd)\n",
    "        time (_type_): time period (10_minutes, hourly)\n",
    "        parameter (str): climatic parameters we are interested in\n",
    "        start_year (int): start of the observation period\n",
    "        end_year (int): end of the observation period\n",
    "\n",
    "    Returns:\n",
    "        int: numbers of datapoints of the parameter that contain the complete period we are interested\n",
    "    \"\"\"\n",
    "    i=0\n",
    "    for link in dwd_links[time][parameter]:\n",
    "        try:\n",
    "            start_interval = int(get_date(link)[0])\n",
    "            end_interval = int(get_date(link)[1])\n",
    "            if ((start_interval <= start_year)  & (end_interval >= end_year)):\n",
    "                i = i+1\n",
    "        except:\n",
    "            pass\n",
    "    return i"
   ]
  },
  {
   "cell_type": "code",
   "execution_count": 13,
   "id": "ed5e5fdc",
   "metadata": {},
   "outputs": [],
   "source": [
    "def show_available_data(dwd_links:dict,time, parameters: List[str]):\n",
    "    data_balance = pd.DataFrame(columns = parameters, index = [str(i) + \"'s - present\" for i in range(1950,2020,10)])\n",
    "    for parameter in parameters:\n",
    "        for i in range(1950,2020,10):\n",
    "            data_balance[parameter][str(i)+ \"'s - present\"] = count_datapoints(dwd_links,time,parameter, i, 2020)\n",
    "    display(data_balance)"
   ]
  },
  {
   "cell_type": "code",
   "execution_count": 14,
   "id": "62f7de1b",
   "metadata": {},
   "outputs": [],
   "source": [
    "def ids_datapoints(dwd_links:dict,time:str,parameter:str, start_year:int, end_year:int) -> List[str]:\n",
    "    \"\"\"Returns the ids of the weather station that has entries for the parameter in the mentioned timeframe\n",
    "\n",
    "    Args:\n",
    "        dwd_links (dict): source of data (dwd)\n",
    "        time (str): time period (10_minutes, hourly)\n",
    "        parameter (str): climatic parameters we are interested in\n",
    "        start_year (int): start of the observation period\n",
    "        end_year (int): end of the observation period\n",
    "\n",
    "    Returns:\n",
    "        List[str]: ids of weather stations that have the parameter that contain the complete period we are interested\n",
    "    \"\"\"\n",
    "    list = []\n",
    "    for link in dwd_links[time][parameter]:\n",
    "        try:\n",
    "            start_interval = int(get_date(link)[0])\n",
    "            end_interval = int(get_date(link)[1])\n",
    "            if ((start_interval <= start_year)  & (end_interval >= end_year)):\n",
    "                id = re.findall(\"_\\d{5}_\",str(link))[0]\n",
    "                ##print(\"link\")\n",
    "                list.append(id[1:-1])\n",
    "        except:\n",
    "            pass\n",
    "    return list\n",
    "\n",
    "parameters =(\"air_temperature\",\"dew_point\", \"moisture\", \"precipitation\")\n",
    "dwd_links = get_links(parameters)"
   ]
  },
  {
   "cell_type": "code",
   "execution_count": 15,
   "id": "6901f1df",
   "metadata": {},
   "outputs": [],
   "source": [
    "\"\"\"def common_stations(paramer1:str, parameter2:str, time:str, interval: List[int]):\n",
    "    print(common_stations)\n",
    "    print(f\"{paramer1} and {parameter2} have the following number of stations that measured in:\")\n",
    "    full_list = []\n",
    "    for i in interval:\n",
    "        list1 = ids_datapoints(dwd_links,time,paramer1,i,2020)\n",
    "        list2 = ids_datapoints(dwd_links,time,parameter2,i,2020)\n",
    "        list1_as_set = set(list1)\n",
    "        intersection = list1_as_set.intersection(list2)\n",
    "        intersection_as_list = List(intersection)\n",
    "        full_list = full_list + intersection_as_list\n",
    "        print(str(i) + \" - present\" + \": \" + str(len(intersection_as_list)))        \n",
    "    return full_list\n",
    "def complex_common_stations(parameters:List[str],time:str, interval: List[int]):\n",
    "    ids =[{i:{parameter:ids_datapoints(dwd_links,time,parameter,i,2020)}} for parameter in parameters for i in interval]\n",
    "    for i in range(0,len(interval)):\n",
    "        print(ids[i])\n",
    "    for i in range(2, len(parameters)+1):\n",
    "        combined = combinations(parameters, i)\n",
    "        #print(\" \".join(str(e) for e in combined) )\n",
    "        #for j in combined:\n",
    "            #print(ids)\n",
    "        #print(set.intersection(*[set(list) for list in p]))       \n",
    "\n",
    "#complex_common_stations([\"moisture\", \"dew_point\", \"air_temperature\"],\"hourly\", range(1950,2020,10))\n",
    "\"\"\"\n",
    "def simple_common_stations(ids_parameter1: List[int],ids_parameter2: List[int]) -> List:\n",
    "    \"\"\"Common stations between two parameters\n",
    "\n",
    "    Args:\n",
    "        ids_parameter1 (List[int]): ids of the first parameter\n",
    "        ids_parameter2 (List[int]): ids of the second parameter\n",
    "\n",
    "    Returns:\n",
    "        List: a list with the common ids of the parameters\n",
    "    \"\"\"\n",
    "    list1_as_set = set(ids_parameter1)\n",
    "    intersection = list1_as_set.intersection(ids_parameter2)\n",
    "    intersection_as_list = list(intersection)\n",
    "    return intersection_as_list\n"
   ]
  },
  {
   "cell_type": "code",
   "execution_count": 16,
   "id": "a054ce69",
   "metadata": {},
   "outputs": [],
   "source": [
    "def create_df(parameter:str,time:str,start_year:int,end_year:int, is_test = True):\n",
    "\n",
    "    test_count = 0\n",
    "    if(is_test):\n",
    "        limit =4\n",
    "    else:\n",
    "        limit = 99999\n",
    "    df = pd.DataFrame()\n",
    "    for link in dwd_links[time][parameter]:   \n",
    "        if (test_count <= limit):\n",
    "            test_count+=1\n",
    "            filename = str.split(link,\"/\")[-1]\n",
    "            \n",
    "            if(not exists(\"downloads/\" + time + \"/\" + parameter + \"/\" + filename)):\n",
    "                file_zip = wget.download(link,\"downloads/\"+time+\"/\" + parameter + \"/\")\n",
    "                print(\"downloading\" + filename + \"...\",end = \" \", flush=True)\n",
    "            else:\n",
    "                file_zip = \"downloads/\"+ time+ \"/\" + parameter + \"/\" + filename\n",
    "                print(\"FOUND \"+ filename, end =\" \", flush=True)\n",
    "                sleep(1)\n",
    "            try:    \n",
    "                with ZipFile(file_zip) as myzip:\n",
    "                    for filename in myzip.namelist():\n",
    "                        if \"Metadat\" not in filename:\n",
    "                            with myzip.open(filename) as myfile:\n",
    "                                this_df = pd.read_csv(myfile, sep =\";\")\n",
    "                                \n",
    "                                df = pd.concat([df,this_df])\n",
    "            except:\n",
    "                print(\"Not able to open:\",filename, \"Reason: unknown.\")\n",
    "    return df\n",
    "\n"
   ]
  },
  {
   "cell_type": "code",
   "execution_count": 17,
   "id": "89d6b2e3",
   "metadata": {},
   "outputs": [],
   "source": [
    "def coordinates_stations(ids:List[str], path_info:str ):\n",
    "    df = pd.read_csv(path_info, header=None, names=[\"raw\"], sep = \";\", encoding = \"latin1\", skiprows=2)\n",
    "    #df[\"id\"] = df[\"raw\"].apply(lambda x: x[0:5])\n",
    "    df[\"id\"] = df[\"raw\"].str.extract(r'(\\d{5})')\n",
    "    #df[\"period\"] = df[\"raw\"].str.findall(r'(\\d{8})')\n",
    "    #df[\"height\"] = df[\"raw\"].str.extract(r'(\\s+\\d{1,3}\\s+)')\n",
    "    df[\"coord\"] = df[\"raw\"].str.findall(r'(\\d{1,2}\\.{1}\\d{4})')\n",
    "    df[['lat','lon']] = pd.DataFrame(df.coord.tolist(), index= df.index)\n",
    "    df[\"lat\"]=df[\"lat\"].apply(lambda x: float(x))\n",
    "    df[\"lon\"]=df[\"lon\"].apply(lambda x: float(x))\n",
    "    processed_df = df[[\"id\",\"lat\",\"lon\"]]\n",
    "    if ids == None:\n",
    "        return processed_df\n",
    "    else:\n",
    "        return processed_df[processed_df[\"id\"].isin(ids)]"
   ]
  },
  {
   "cell_type": "code",
   "execution_count": 22,
   "id": "6b8e33e6",
   "metadata": {},
   "outputs": [
    {
     "data": {
      "image/png": "[encoded data removed]",
      "text/plain": [
       "<Figure size 576x432 with 1 Axes>"
      ]
     },
     "metadata": {
      "needs_background": "light"
     },
     "output_type": "display_data"
    }
   ],
   "source": [
    "def plot_points_germany(start_year:int, end_year:int = 2020):\n",
    "    moisture_year_h = ids_datapoints(dwd_links,\"hourly\",\"moisture\",start_year,2020)\n",
    "    dew_point_year_h = ids_datapoints(dwd_links,\"hourly\",\"dew_point\",start_year,2020)\n",
    "    air_temp_year_h = ids_datapoints(dwd_links,\"hourly\",\"air_temperature\",start_year,2020)\n",
    "\n",
    "    common_ids = (simple_common_stations(simple_common_stations(moisture_year_h,dew_point_year_h),air_temp_year_h))\n",
    "    stations_coordinates = coordinates_stations(common_ids,\"downloads/hourly/dew_point/TD_Stundenwerte_Beschreibung_Stationen.txt\")\n",
    "\n",
    "    fig, ax = plt.subplots(figsize=(8,6))\n",
    "    countries = gpd.read_file( gpd.datasets.get_path(\"naturalearth_lowres\"))\n",
    "    countries[countries[\"name\"] == \"Germany\"].plot(color=\"lightgrey\",ax=ax)\n",
    "    stations_coordinates.plot(x=\"lon\", y=\"lat\", kind=\"scatter\",title=f\"Weather stations that measure the parameters required for applying \\n the desease models in the time period of {start_year} - present\",  ax=ax)\n",
    "\n",
    "    plt.show()\n",
    "plot_points_germany(1950)"
   ]
  },
  {
   "cell_type": "markdown",
   "id": "e0c09579",
   "metadata": {},
   "source": [
    "### The following code is written just to email me when the files are downloaded/models are trained"
   ]
  },
  {
   "cell_type": "markdown",
   "id": "f6321219",
   "metadata": {},
   "source": []
  },
  {
   "cell_type": "code",
   "execution_count": 19,
   "id": "80618e87",
   "metadata": {},
   "outputs": [],
   "source": [
    "import smtplib, ssl, os\n",
    "\n",
    "def mail_me():\n",
    "    port = 465  # For SSL\n",
    "    smtp_server = \"smtp.gmail.com\"\n",
    "    sender_email = \"computersays521@gmail.com\"  # Enter your address\n",
    "    receiver_email = \"radulescu_serban_petre@yahoo.com\"  # Enter receiver address\n",
    "    password = open(\"mailingfile.txt\",\"r\").readlines()[0]\n",
    "    message = \"\"\"\\\n",
    "    Subject: Hi there\n",
    "\n",
    "    It seems that what you were working on is done. Or you had some errors. Either way the program is completed. \"\"\"\n",
    "\n",
    "    context = ssl.create_default_context()\n",
    "    with smtplib.SMTP_SSL(smtp_server, port, context=context) as server:\n",
    "        server.login(sender_email, password)\n",
    "        server.sendmail(sender_email, receiver_email, message)"
   ]
  },
  {
   "cell_type": "code",
   "execution_count": null,
   "id": "fec4c299",
   "metadata": {},
   "outputs": [],
   "source": []
  }
 ],
 "metadata": {
  "hide_input": false,
  "interpreter": {
   "hash": "8488b1165f104a905cf6677a9ffc3532c3736b5873a3271a01fb03afba4b3bc1"
  },
  "kernelspec": {
   "display_name": "Python 3.9.12 ('thesis')",
   "language": "python",
   "name": "python3"
  },
  "language_info": {
   "codemirror_mode": {
    "name": "ipython",
    "version": 3
   },
   "file_extension": ".py",
   "mimetype": "text/x-python",
   "name": "python",
   "nbconvert_exporter": "python",
   "pygments_lexer": "ipython3",
   "version": "3.9.12"
  }
 },
 "nbformat": 4,
 "nbformat_minor": 5
}
