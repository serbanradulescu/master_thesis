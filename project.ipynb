{
 "cells": [
  {
   "cell_type": "markdown",
   "metadata": {},
   "source": [
    "------------------------------------------------------------------------------------------------------------------------\n",
    "\n",
    "This is the results part of the project. If you want to see the source code please go to:\n",
    "\n",
    "### Results | __[Code](https://github.com/serbanradulescu/master_thesis/blob/main/code.ipynb)__ \n",
    "------------------------------------------------------------------------------------------------------------------------"
   ]
  },
  {
   "cell_type": "code",
   "execution_count": 128,
   "metadata": {},
   "outputs": [
    {
     "name": "stdout",
     "output_type": "stream",
     "text": [
      "24\n"
     ]
    }
   ],
   "source": [
    "#this line imports the functions needed for this project\n",
    "%run code.ipynb"
   ]
  },
  {
   "cell_type": "markdown",
   "metadata": {},
   "source": [
    "# Exploring the effects of changing agroclimatological conditions on potential occurence of major winter wheat diseases: A spatio-temporal analysis for Germany from 1960 to today\n",
    "\n",
    "## Step 1. Exploring the data"
   ]
  },
  {
   "cell_type": "markdown",
   "metadata": {},
   "source": [
    "From the __[DWD website](https://opendata.dwd.de/climate_environment/CDC/observations_germany/climate/hourly/)__ we can access the following data:\n",
    "\n",
    "1. air temperature\n",
    "1. cloud types\n",
    "3. cloudiness\n",
    "4. dew point\n",
    "5. extreme wind\n",
    "6. moisture\n",
    "7. precipitation\n",
    "8. pressure\n",
    "9. soil temperature\n",
    "10. solar\n",
    "11. sun\n",
    "12. visibility\n",
    "13. weather phenomena\n",
    "14. wind\n",
    "15. wind synop"
   ]
  },
  {
   "cell_type": "markdown",
   "metadata": {},
   "source": [
    "### From this data, the most relevant for disease models are air temperature, dew point, moisture and precipitation. The following table summarizes the hourly data points we have for each parameter and each period."
   ]
  },
  {
   "cell_type": "code",
   "execution_count": 129,
   "metadata": {
    "scrolled": true
   },
   "outputs": [
    {
     "data": {
      "text/html": [
       "<div>\n",
       "<style scoped>\n",
       "    .dataframe tbody tr th:only-of-type {\n",
       "        vertical-align: middle;\n",
       "    }\n",
       "\n",
       "    .dataframe tbody tr th {\n",
       "        vertical-align: top;\n",
       "    }\n",
       "\n",
       "    .dataframe thead th {\n",
       "        text-align: right;\n",
       "    }\n",
       "</style>\n",
       "<table border=\"1\" class=\"dataframe\">\n",
       "  <thead>\n",
       "    <tr style=\"text-align: right;\">\n",
       "      <th></th>\n",
       "      <th>air_temperature</th>\n",
       "      <th>dew_point</th>\n",
       "      <th>moisture</th>\n",
       "      <th>precipitation</th>\n",
       "    </tr>\n",
       "  </thead>\n",
       "  <tbody>\n",
       "    <tr>\n",
       "      <th>1950's - present</th>\n",
       "      <td>29</td>\n",
       "      <td>48</td>\n",
       "      <td>48</td>\n",
       "      <td>0</td>\n",
       "    </tr>\n",
       "    <tr>\n",
       "      <th>1960's - present</th>\n",
       "      <td>67</td>\n",
       "      <td>57</td>\n",
       "      <td>57</td>\n",
       "      <td>0</td>\n",
       "    </tr>\n",
       "    <tr>\n",
       "      <th>1970's - present</th>\n",
       "      <td>75</td>\n",
       "      <td>59</td>\n",
       "      <td>59</td>\n",
       "      <td>0</td>\n",
       "    </tr>\n",
       "    <tr>\n",
       "      <th>1980's - present</th>\n",
       "      <td>97</td>\n",
       "      <td>118</td>\n",
       "      <td>118</td>\n",
       "      <td>0</td>\n",
       "    </tr>\n",
       "    <tr>\n",
       "      <th>1990's - present</th>\n",
       "      <td>129</td>\n",
       "      <td>149</td>\n",
       "      <td>149</td>\n",
       "      <td>0</td>\n",
       "    </tr>\n",
       "    <tr>\n",
       "      <th>2000's - present</th>\n",
       "      <td>155</td>\n",
       "      <td>185</td>\n",
       "      <td>185</td>\n",
       "      <td>144</td>\n",
       "    </tr>\n",
       "    <tr>\n",
       "      <th>2010's - present</th>\n",
       "      <td>481</td>\n",
       "      <td>481</td>\n",
       "      <td>481</td>\n",
       "      <td>927</td>\n",
       "    </tr>\n",
       "  </tbody>\n",
       "</table>\n",
       "</div>"
      ],
      "text/plain": [
       "                 air_temperature dew_point moisture precipitation\n",
       "1950's - present              29        48       48             0\n",
       "1960's - present              67        57       57             0\n",
       "1970's - present              75        59       59             0\n",
       "1980's - present              97       118      118             0\n",
       "1990's - present             129       149      149             0\n",
       "2000's - present             155       185      185           144\n",
       "2010's - present             481       481      481           927"
      ]
     },
     "metadata": {},
     "output_type": "display_data"
    }
   ],
   "source": [
    "parameters =(\"air_temperature\",\"dew_point\", \"moisture\", \"precipitation\")\n",
    "dwd_links = get_links(parameters)\n",
    "show_available_data(dwd_links,\"hourly\",parameters)"
   ]
  },
  {
   "cell_type": "markdown",
   "metadata": {},
   "source": [
    "#### However, for some models we need two or more parameters to be present at the same station. Here we test what stations have data for all the 3 parameters that we counted in the previous step, from 1950 to present."
   ]
  },
  {
   "cell_type": "code",
   "execution_count": 130,
   "metadata": {},
   "outputs": [
    {
     "name": "stdout",
     "output_type": "stream",
     "text": [
      "Number of stations where dew point, air temperature and moisture are measured from 1950 to present:  24\n",
      "These ID's are: ['03730', '05705', '05371', '05792', '05906', '01975', '02290', '04371', '04104', '02014', '00701', '01691', '02261', '01550', '04887', '03631', '02601', '00691', '05100', '00656', '03032', '02597', '01639', '00867']\n"
     ]
    }
   ],
   "source": [
    "moisture_1950_h = ids_datapoints(dwd_links,\"hourly\",\"moisture\",1950,2020)\n",
    "dew_point_1950_h = ids_datapoints(dwd_links,\"hourly\",\"dew_point\",1950,2020)\n",
    "air_temp_1950_h = ids_datapoints(dwd_links,\"hourly\",\"air_temperature\",1950,2020)\n",
    "\n",
    "common_ids = (simple_common_stations(simple_common_stations(moisture_1950_h,dew_point_1950_h),air_temp_1950_h))\n",
    "print(\"Number of stations where dew point, air temperature and moisture are measured from 1950 to present: \", len(common_ids))\n",
    "print(\"These ID's are:\", common_ids)"
   ]
  },
  {
   "cell_type": "markdown",
   "metadata": {},
   "source": [
    "### Let's plot the stations to make sure that the points are representative for whole Germany:"
   ]
  },
  {
   "cell_type": "code",
   "execution_count": 135,
   "metadata": {},
   "outputs": [],
   "source": [
    "stations_coordinates = coordinates_stations(common_ids,\"downloads/hourly/dew_point/TD_Stundenwerte_Beschreibung_Stationen.txt\")\n",
    "stations_coordinates[\"lat\"]=stations_coordinates[\"lat\"].apply(lambda x: float(x))\n",
    "stations_coordinates[\"lon\"]=stations_coordinates[\"lon\"].apply(lambda x: float(x))\n"
   ]
  },
  {
   "cell_type": "code",
   "execution_count": 150,
   "metadata": {},
   "outputs": [
    {
     "data": {
      "image/png": "[encoded data removed]",
      "text/plain": [
       "<Figure size 576x432 with 1 Axes>"
      ]
     },
     "metadata": {
      "needs_background": "light"
     },
     "output_type": "display_data"
    }
   ],
   "source": [
    "\n",
    "fig, ax = plt.subplots(figsize=(8,6))\n",
    "\n",
    "countries = gpd.read_file(  \n",
    "     gpd.datasets.get_path(\"naturalearth_lowres\"))\n",
    "countries[countries[\"name\"] == \"Germany\"].plot(color=\"lightgrey\",\n",
    "                                                 ax=ax)\n",
    "stations_coordinates.plot(x=\"lon\", y=\"lat\", kind=\"scatter\", ax=ax)\n",
    "\n",
    "plt.show()"
   ]
  },
  {
   "cell_type": "markdown",
   "metadata": {},
   "source": [
    "## Step 2. Downloading the data"
   ]
  },
  {
   "cell_type": "code",
   "execution_count": null,
   "metadata": {},
   "outputs": [],
   "source": []
  }
 ],
 "metadata": {
  "celltoolbar": "Edit Metadata",
  "hide_input": false,
  "interpreter": {
   "hash": "8488b1165f104a905cf6677a9ffc3532c3736b5873a3271a01fb03afba4b3bc1"
  },
  "kernelspec": {
   "display_name": "Python 3.9.12 ('thesis')",
   "language": "python",
   "name": "python3"
  },
  "language_info": {
   "codemirror_mode": {
    "name": "ipython",
    "version": 3
   },
   "file_extension": ".py",
   "mimetype": "text/x-python",
   "name": "python",
   "nbconvert_exporter": "python",
   "pygments_lexer": "ipython3",
   "version": "3.9.12"
  }
 },
 "nbformat": 4,
 "nbformat_minor": 4
}
