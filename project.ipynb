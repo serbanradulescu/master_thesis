{
 "cells": [
  {
   "cell_type": "markdown",
   "metadata": {},
   "source": [
    "# Exploring the effects of changing agroclimatological conditions on potential occurence of major winter wheat diseases: A spatio-temporal analysis for Germany from 1960 to today\n",
    "\n",
    "## Step 1. Exploring the data"
   ]
  },
  {
   "cell_type": "markdown",
   "metadata": {},
   "source": [
    "From __[DWD website](https://opendata.dwd.de/climate_environment/CDC/observations_germany/climate/hourly/)__ we can download the following data:\n",
    "\n",
    "1. air temperature\n",
    "1. cloud types\n",
    "3. cloudiness\n",
    "4. dew point\n",
    "5. extreme wind\n",
    "6. moisture\n",
    "7. precipitation\n",
    "8. pressure\n",
    "9. soil temperature\n",
    "10. solar\n",
    "11. sun\n",
    "12. visibility\n",
    "13. weather phenomena\n",
    "14. wind\n",
    "15. wind synop"
   ]
  },
  {
   "cell_type": "code",
   "execution_count": 1,
   "metadata": {
    "tags": []
   },
   "outputs": [],
   "source": [
    "import pandas as pd\n",
    "import requests\n",
    "from requests_html import HTMLSession\n",
    "from typing import List\n",
    "from functions import get_date, hide_toggle\n",
    "import random"
   ]
  },
  {
   "cell_type": "code",
   "execution_count": 2,
   "metadata": {
    "tags": []
   },
   "outputs": [],
   "source": [
    "def explore_data(parameter:str, start_year:int, end_year:int) -> int:\n",
    "    url = 'https://opendata.dwd.de/climate_environment/CDC/observations_germany/climate/hourly/' + parameter +'/historical/'\n",
    "    try:\n",
    "        session = HTMLSession()\n",
    "        response = session.get(url)\n",
    "        \n",
    "    except requests.exceptions.RequestException as e:\n",
    "        print(e)\n",
    "\n",
    "    links = response.html.absolute_links\n",
    "    i=0\n",
    "    for link in links:\n",
    "        try:\n",
    "            start_interval = int(get_date(link)[0])\n",
    "            end_interval = int(get_date(link)[1])\n",
    "            if ((start_interval <= start_year)  & (end_interval >= end_year)):\n",
    "                i = i+1\n",
    "        except:\n",
    "            pass\n",
    "    return i"
   ]
  },
  {
   "cell_type": "code",
   "execution_count": 3,
   "metadata": {
    "tags": []
   },
   "outputs": [],
   "source": [
    "def show_available_data(parameters: List[str]):\n",
    "    data_balance = pd.DataFrame(columns = parameters, index = [str(i) + \"'s - present\" for i in range(1950,2020,10)])\n",
    "    for parameter in parameters:\n",
    "        for i in range(1950,2020,10):\n",
    "            data_balance[parameter][str(i)+ \"'s - present\"] = explore_data(parameter, i, 2020)\n",
    "    print(data_balance)"
   ]
  },
  {
   "cell_type": "markdown",
   "metadata": {},
   "source": [
    "### Public data available from DWD for different historic periods."
   ]
  },
  {
   "cell_type": "code",
   "execution_count": 4,
   "metadata": {
    "scrolled": true
   },
   "outputs": [
    {
     "name": "stdout",
     "output_type": "stream",
     "text": [
      "                 air_temperature dew_point moisture precipitation\n",
      "1950's - present              29        48       48             0\n",
      "1960's - present              67        57       57             0\n",
      "1970's - present              75        59       59             0\n",
      "1980's - present              97       118      118             0\n",
      "1990's - present             129       149      149             0\n",
      "2000's - present             155       185      185           144\n",
      "2010's - present             481       481      481           927\n"
     ]
    }
   ],
   "source": [
    "show_available_data([\"air_temperature\",\"dew_point\", \"moisture\", \"precipitation\"])"
   ]
  },
  {
   "cell_type": "markdown",
   "metadata": {},
   "source": [
    "## Step 2. Downloading the data"
   ]
  },
  {
   "cell_type": "code",
   "execution_count": null,
   "metadata": {},
   "outputs": [],
   "source": []
  },
  {
   "cell_type": "code",
   "execution_count": null,
   "metadata": {},
   "outputs": [],
   "source": []
  }
 ],
 "metadata": {
  "hide_input": false,
  "interpreter": {
   "hash": "8488b1165f104a905cf6677a9ffc3532c3736b5873a3271a01fb03afba4b3bc1"
  },
  "kernelspec": {
   "display_name": "Python 3 (ipykernel)",
   "language": "python",
   "name": "python3"
  },
  "language_info": {
   "codemirror_mode": {
    "name": "ipython",
    "version": 3
   },
   "file_extension": ".py",
   "mimetype": "text/x-python",
   "name": "python",
   "nbconvert_exporter": "python",
   "pygments_lexer": "ipython3",
   "version": "3.9.12"
  }
 },
 "nbformat": 4,
 "nbformat_minor": 4
}
