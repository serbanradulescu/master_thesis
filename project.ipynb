{
 "cells": [
  {
   "cell_type": "markdown",
   "metadata": {},
   "source": [
    "# Exploring the effects of changing agroclimatological conditions on potential occurence of major winter wheat diseases: A spatio-temporal analysis for Germany from 1960 to today\n",
    "\n",
    "## Step 1. Exploring the data"
   ]
  },
  {
   "cell_type": "markdown",
   "metadata": {},
   "source": [
    "From the __[DWD website](https://opendata.dwd.de/climate_environment/CDC/observations_germany/climate/hourly/)__ we can access the following data:\n",
    "\n",
    "1. air temperature\n",
    "1. cloud types\n",
    "3. cloudiness\n",
    "4. dew point\n",
    "5. extreme wind\n",
    "6. moisture\n",
    "7. precipitation\n",
    "8. pressure\n",
    "9. soil temperature\n",
    "10. solar\n",
    "11. sun\n",
    "12. visibility\n",
    "13. weather phenomena\n",
    "14. wind\n",
    "15. wind synop"
   ]
  },
  {
   "cell_type": "code",
   "execution_count": 2,
   "metadata": {
    "tags": [
     "hide-cell"
    ]
   },
   "outputs": [],
   "source": [
    "import pandas as pd\n",
    "import re\n",
    "import requests\n",
    "from requests_html import HTMLSession\n",
    "from typing import List\n",
    "from functions import get_date, hide_toggle\n",
    "import wget\n",
    "from zipfile import ZipFile\n",
    "from os.path import exists\n",
    "from time import sleep"
   ]
  },
  {
   "cell_type": "code",
   "execution_count": 3,
   "metadata": {
    "tags": []
   },
   "outputs": [],
   "source": [
    "def get_links(parameters:List[str], time:List[str] = [\"1_minute\",\"5_minutes\",\"10_minutes\",\"hourly\"]) -> dict:\n",
    "    dwd_links = {interval:{key: None for key in parameters} for interval in time}\n",
    "    for interval in time:\n",
    "        for parameter in parameters:\n",
    "            url = 'https://opendata.dwd.de/climate_environment/CDC/observations_germany/climate/' + str(interval) + '/' + parameter + '/historical/'\n",
    "            try:\n",
    "                session = HTMLSession()\n",
    "                response = session.get(url)\n",
    "                dwd_links[interval][parameter] = response.html.absolute_links\n",
    "\n",
    "            except requests.exceptions.RequestException as e:\n",
    "                print(e)\n",
    "    return dwd_links\n",
    "\n",
    "def count_datapoints(dwd_links:dict,time,parameter:str, start_year:int, end_year:int) -> int:\n",
    "    i=0\n",
    "    for link in dwd_links[time][parameter]:\n",
    "        try:\n",
    "            start_interval = int(get_date(link)[0])\n",
    "            end_interval = int(get_date(link)[1])\n",
    "            if ((start_interval <= start_year)  & (end_interval >= end_year)):\n",
    "                i = i+1\n",
    "        except:\n",
    "            pass\n",
    "    return i\n"
   ]
  },
  {
   "cell_type": "code",
   "execution_count": 4,
   "metadata": {
    "tags": []
   },
   "outputs": [],
   "source": [
    "\n",
    "def show_available_data(dwd_links:dict,time, parameters: List[str]):\n",
    "    data_balance = pd.DataFrame(columns = parameters, index = [str(i) + \"'s - present\" for i in range(1950,2020,10)])\n",
    "    for parameter in parameters:\n",
    "        for i in range(1950,2020,10):\n",
    "            data_balance[parameter][str(i)+ \"'s - present\"] = count_datapoints(dwd_links,time,parameter, i, 2020)\n",
    "    print(data_balance)"
   ]
  },
  {
   "cell_type": "markdown",
   "metadata": {},
   "source": [
    "### From this data, the most relevant for disease models are air temperature, dew point, moisture and precipitation. The following table summarizes the hourly data points we have for each parameter and each period."
   ]
  },
  {
   "cell_type": "code",
   "execution_count": 5,
   "metadata": {
    "scrolled": true
   },
   "outputs": [
    {
     "name": "stdout",
     "output_type": "stream",
     "text": [
      "                 air_temperature dew_point moisture precipitation\n",
      "1950's - present              29        48       48             0\n",
      "1960's - present              67        57       57             0\n",
      "1970's - present              75        59       59             0\n",
      "1980's - present              97       118      118             0\n",
      "1990's - present             129       149      149             0\n",
      "2000's - present             155       185      185           144\n",
      "2010's - present             481       481      481           927\n"
     ]
    }
   ],
   "source": [
    "parameters =[\"air_temperature\",\"dew_point\", \"moisture\", \"precipitation\"]\n",
    "dwd_links = get_links(parameters)\n",
    "show_available_data(dwd_links,\"hourly\",parameters)"
   ]
  },
  {
   "cell_type": "code",
   "execution_count": 6,
   "metadata": {},
   "outputs": [],
   "source": [
    "def ids_datapoints(dwd_links:dict,time,parameter:str, start_year:int, end_year:int) -> List[str]:\n",
    "    list = []\n",
    "    for link in dwd_links[time][parameter]:\n",
    "        try:\n",
    "            start_interval = int(get_date(link)[0])\n",
    "            end_interval = int(get_date(link)[1])\n",
    "            if ((start_interval <= start_year)  & (end_interval >= end_year)):\n",
    "                id = re.findall(\"_\\d{5}_\",str(link))[0]\n",
    "                ##print(\"link\")\n",
    "                list.append(id)\n",
    "        except:\n",
    "            pass\n",
    "    return list\n",
    "def common_stations(paramer1:str, parameter2:str, time):\n",
    "    print(f\"{paramer1} and {parameter2} have the following number of stations that measured in:\")\n",
    "    for i in range(1950,2020,10):\n",
    "        list1 = ids_datapoints(dwd_links,time,paramer1,i,2020)\n",
    "        list2 = ids_datapoints(dwd_links,time,parameter2,i,2020)\n",
    "        list1_as_set = set(list1)\n",
    "        intersection = list1_as_set.intersection(list2)\n",
    "        intersection_as_list = list(intersection)\n",
    "        print(str(i) + \" - present\" + \": \" + str(len(intersection_as_list)))\n"
   ]
  },
  {
   "cell_type": "code",
   "execution_count": 7,
   "metadata": {},
   "outputs": [
    {
     "name": "stdout",
     "output_type": "stream",
     "text": [
      "dew_point and air_temperature have the following number of stations that measured in:\n",
      "1950 - present: 24\n",
      "1960 - present: 46\n",
      "1970 - present: 52\n",
      "1980 - present: 87\n",
      "1990 - present: 116\n",
      "2000 - present: 143\n",
      "2010 - present: 480\n"
     ]
    }
   ],
   "source": [
    "common_stations(\"dew_point\", \"air_temperature\",\"hourly\")"
   ]
  },
  {
   "cell_type": "markdown",
   "metadata": {},
   "source": [
    "## Step 2. Downloading the data"
   ]
  },
  {
   "cell_type": "code",
   "execution_count": 8,
   "metadata": {},
   "outputs": [
    {
     "name": "stdout",
     "output_type": "stream",
     "text": [
      "FOUND stundenwerte_TF_00656_19490101_20211231_hist.zip FOUND stundenwerte_TF_00876_19750701_19901231_hist.zip FOUND stundenwerte_TF_04063_20030701_20211231_hist.zip FOUND stundenwerte_TF_04354_20060101_20211231_hist.zip FOUND stundenwerte_TF_04160_20040701_20211231_hist.zip FOUND stundenwerte_TF_00953_19500701_20211231_hist.zip FOUND stundenwerte_TF_02750_20051101_20211231_hist.zip FOUND stundenwerte_TF_01886_20160811_20211231_hist.zip FOUND stundenwerte_TF_03857_20050101_20211231_hist.zip FOUND stundenwerte_TF_07075_20050201_20211231_hist.zip FOUND stundenwerte_TF_06344_20041201_20211231_hist.zip         STATIONS_ID  MESS_DATUM  QN_8  ABSF_STD  VP_STD  TF_STD  P_STD  \\\n",
      "0               656  1949010100     3       3.9     4.9    -1.8  941.9   \n",
      "1               656  1949010103     3       4.2     5.3    -1.4  941.9   \n",
      "2               656  1949010106     3       4.2     5.3    -0.8  941.9   \n",
      "3               656  1949010109     3       4.2     5.3    -1.4  941.9   \n",
      "4               656  1949010112     3       4.2     5.3    -0.2  941.9   \n",
      "...             ...         ...   ...       ...     ...     ...    ...   \n",
      "149346         6344  2021123119     3       8.8    11.6    10.3  993.2   \n",
      "149347         6344  2021123120     3       9.0    11.8    10.3  993.2   \n",
      "149348         6344  2021123121     3       9.2    12.0    10.5  993.2   \n",
      "149349         6344  2021123122     3       9.1    12.0    10.6  993.2   \n",
      "149350         6344  2021123123     3       9.0    11.9    10.4  993.2   \n",
      "\n",
      "        TT_STD  RF_STD  TD_STD  eor  \n",
      "0         -1.0    86.3    -3.0  eor  \n",
      "1         -1.0    92.9    -2.0  eor  \n",
      "2          0.0    86.4    -2.0  eor  \n",
      "3         -1.0    92.9    -2.0  eor  \n",
      "4          1.0    80.3    -2.0  eor  \n",
      "...        ...     ...     ...  ...  \n",
      "149346    11.7    84.0     9.1  eor  \n",
      "149347    11.5    86.9     9.4  eor  \n",
      "149348    11.5    88.7     9.7  eor  \n",
      "149349    11.8    86.4     9.6  eor  \n",
      "149350    11.6    86.9     9.5  eor  \n",
      "\n",
      "[1887536 rows x 11 columns]\n"
     ]
    }
   ],
   "source": [
    "def create_df(parameter,time,start_year,end_year, is_test = True):\n",
    "    test_count = 0\n",
    "    if(is_test):\n",
    "        limit =10\n",
    "    else:\n",
    "        limit = 99999\n",
    "    df = pd.DataFrame()\n",
    "    for link in dwd_links[time][parameter]:   \n",
    "        if (test_count <= limit):\n",
    "            test_count+=1\n",
    "            filename = str.split(link,\"/\")[-1]\n",
    "            \n",
    "            if(not exists(\"downloads/\" + time + \"/\" + parameter + \"/\" + filename)):\n",
    "                file_zip = wget.download(link,\"downloads/\"+time+\"/\" + parameter + \"/\")\n",
    "                print(\"downloading\" + filename + \"...\",end = \" \", flush=True)\n",
    "            else:\n",
    "                file_zip = \"downloads/\"+ time+ \"/\" + parameter + \"/\" + filename\n",
    "                print(\"FOUND \"+ filename, end =\" \", flush=True)\n",
    "                sleep(1)\n",
    "            try:    \n",
    "                with ZipFile(file_zip) as myzip:\n",
    "                    for filename in myzip.namelist():\n",
    "                        if \"Metadat\" not in filename:\n",
    "                            with myzip.open(filename) as myfile:\n",
    "                                this_df = pd.read_csv(myfile, sep =\";\")\n",
    "                                df = pd.concat([df,this_df])\n",
    "            except:\n",
    "                print(\"Not able to open:\",filename, \"Reason: unknown.\")\n",
    "    return df\n",
    "\n",
    "print(create_df(\"moisture\",\"hourly\",2020,2020,True))"
   ]
  },
  {
   "cell_type": "code",
   "execution_count": 9,
   "metadata": {},
   "outputs": [
    {
     "name": "stdout",
     "output_type": "stream",
     "text": [
      "FOUND stundenwerte_TD_06109_20040901_20211231_hist.zip FOUND stundenwerte_TD_04275_20041201_20211231_hist.zip FOUND stundenwerte_TD_00880_19830103_20211231_hist.zip FOUND stundenwerte_TD_02115_19520301_20211231_hist.zip FOUND stundenwerte_TD_03126_19750701_20211231_hist.zip FOUND stundenwerte_TD_03668_19490101_20211231_hist.zip FOUND stundenwerte_TD_02362_20040801_20211231_hist.zip FOUND stundenwerte_TD_00164_19750701_20211231_hist.zip FOUND stundenwerte_TD_07393_20100101_20211231_hist.zip FOUND stundenwerte_TD_00377_20041001_20211231_hist.zip FOUND stundenwerte_TD_01262_19920517_20211231_hist.zip         STATIONS_ID  MESS_DATUM  QN_8    TT    TD  eor\n",
      "0              6109  2004090100     1  12.4  11.2  eor\n",
      "1              6109  2004090101     1  12.5  11.2  eor\n",
      "2              6109  2004090102     1  13.0  11.2  eor\n",
      "3              6109  2004090103     1  12.5  11.1  eor\n",
      "4              6109  2004090104     1  12.1  10.7  eor\n",
      "...             ...         ...   ...   ...   ...  ...\n",
      "259385         1262  2021123119     3   8.2   4.5  eor\n",
      "259386         1262  2021123120     3   8.6   4.7  eor\n",
      "259387         1262  2021123121     3   9.1   4.7  eor\n",
      "259388         1262  2021123122     3   9.0   4.8  eor\n",
      "259389         1262  2021123123     3   6.3   3.5  eor\n",
      "\n",
      "[3084161 rows x 6 columns]\n"
     ]
    }
   ],
   "source": [
    "print(create_df(\"dew_point\",\"hourly\",2020,2020,False))"
   ]
  },
  {
   "cell_type": "code",
   "execution_count": 10,
   "metadata": {},
   "outputs": [
    {
     "name": "stdout",
     "output_type": "stream",
     "text": [
      "FOUND stundenwerte_TU_14003_19610103_19920629_hist.zip FOUND stundenwerte_TU_02905_20020101_20211231_hist.zip downloadingstundenwerte_TU_07374_20060301_20211231_hist.zip... FOUND stundenwerte_TU_00722_19510101_20211231_hist.zip FOUND stundenwerte_TU_02410_19610102_20211231_hist.zip FOUND stundenwerte_TU_03513_19890501_20211231_hist.zip FOUND stundenwerte_TU_01526_20041101_20211231_hist.zip FOUND stundenwerte_TU_07412_20061001_20211231_hist.zip FOUND stundenwerte_TU_01358_19510101_20211231_hist.zip FOUND stundenwerte_TU_00880_19560101_20211231_hist.zip FOUND stundenwerte_TU_01239_20040701_20080923_hist.zip        STATIONS_ID  MESS_DATUM  QN_9  TT_TU  RF_TU  eor\n",
      "0            14003  1961010306     1   -4.0   93.0  eor\n",
      "1            14003  1961010307     1   -3.0   86.0  eor\n",
      "2            14003  1961010308     1   -2.0   86.0  eor\n",
      "3            14003  1961010309     1    4.0   60.0  eor\n",
      "4            14003  1961010310     1    5.0   65.0  eor\n",
      "...            ...         ...   ...    ...    ...  ...\n",
      "37074         1239  2008092220     3    8.2   90.0  eor\n",
      "37075         1239  2008092221     3    7.7   93.0  eor\n",
      "37076         1239  2008092222     3    7.3   94.0  eor\n",
      "37077         1239  2008092223     3    7.2   95.0  eor\n",
      "37078         1239  2008092300     3    7.5   93.0  eor\n",
      "\n",
      "[3307563 rows x 6 columns]\n"
     ]
    }
   ],
   "source": [
    "print(create_df(\"air_temperature\",\"hourly\",2020,2020,False))"
   ]
  },
  {
   "cell_type": "code",
   "execution_count": 11,
   "metadata": {},
   "outputs": [
    {
     "name": "stdout",
     "output_type": "stream",
     "text": [
      "downloading10minutenwerte_nieder_00517_20041102_20060629_hist.zip... downloading10minutenwerte_nieder_01282_20200101_20211231_hist.zip... downloading10minutenwerte_nieder_03432_20060915_20091231_hist.zip... downloading10minutenwerte_nieder_02331_20200101_20211231_hist.zip... downloading10minutenwerte_nieder_00427_20100101_20191231_hist.zip... downloading10minutenwerte_nieder_01216_20100101_20191231_hist.zip... downloading10minutenwerte_nieder_05854_20100101_20191231_hist.zip... downloading10minutenwerte_nieder_05162_20040708_20091231_hist.zip... downloading10minutenwerte_nieder_04393_20100101_20191231_hist.zip... downloading10minutenwerte_nieder_05797_20051201_20091231_hist.zip... downloading10minutenwerte_nieder_05871_20200101_20211231_hist.zip...         STATIONS_ID    MESS_DATUM   QN  RWS_DAU_10  RWS_10  RWS_IND_10    QN  \\\n",
      "0               517  200411021400  3.0        -999  -999.0        -999   NaN   \n",
      "1               517  200411021410  3.0        -999     0.0        -999   NaN   \n",
      "2               517  200411021420  3.0        -999     0.0        -999   NaN   \n",
      "3               517  200411021430  3.0        -999     0.0        -999   NaN   \n",
      "4               517  200411021440  3.0        -999     0.0        -999   NaN   \n",
      "...             ...           ...  ...         ...     ...         ...   ...   \n",
      "105259         5871  202112312310  NaN           0     0.0           0   3.0   \n",
      "105260         5871  202112312320  NaN           0     0.0           0   3.0   \n",
      "105261         5871  202112312330  NaN           0     0.0           0   3.0   \n",
      "105262         5871  202112312340  NaN           0     0.0           0   3.0   \n",
      "105263         5871  202112312350  NaN           0     0.0           0   3.0   \n",
      "\n",
      "        eor  \n",
      "0       NaN  \n",
      "1       NaN  \n",
      "2       NaN  \n",
      "3       NaN  \n",
      "4       NaN  \n",
      "...     ...  \n",
      "105259  eor  \n",
      "105260  eor  \n",
      "105261  eor  \n",
      "105262  eor  \n",
      "105263  eor  \n",
      "\n",
      "[2962348 rows x 8 columns]\n"
     ]
    }
   ],
   "source": [
    "print(create_df(\"precipitation\",\"10_minutes\",2020,2020,False))"
   ]
  },
  {
   "cell_type": "code",
   "execution_count": 12,
   "metadata": {},
   "outputs": [
    {
     "name": "stdout",
     "output_type": "stream",
     "text": [
      "downloadingstundenwerte_RR_01435_20021101_20211231_hist.zip... downloadingstundenwerte_RR_01336_20040901_20211231_hist.zip... downloadingstundenwerte_RR_00978_20050201_20211231_hist.zip... downloadingstundenwerte_RR_01056_20051201_20211231_hist.zip... downloadingstundenwerte_RR_04039_19960207_20211231_hist.zip... downloadingstundenwerte_RR_07368_20071101_20211231_hist.zip... downloadingstundenwerte_RR_01544_19950901_20211231_hist.zip... downloadingstundenwerte_RR_00731_20071201_20211231_hist.zip... downloadingstundenwerte_RR_06093_20040501_20211231_hist.zip... downloadingstundenwerte_RR_03304_20070401_20211231_hist.zip... downloadingstundenwerte_RR_07077_20041101_20211231_hist.zip...         STATIONS_ID  MESS_DATUM  QN_8    R1  RS_IND  WRTR  eor\n",
      "0              1435  2002110106     1   0.0       0  -999  eor\n",
      "1              1435  2002110206     1   3.1       1  -999  eor\n",
      "2              1435  2002110306     1   0.0       0  -999  eor\n",
      "3              1435  2002110406     1   0.0       1  -999  eor\n",
      "4              1435  2002110506     1   0.0       0  -999  eor\n",
      "...             ...         ...   ...   ...     ...   ...  ...\n",
      "149989         7077  2021123119     3   0.1       1  -999  eor\n",
      "149990         7077  2021123120     3   0.0       0  -999  eor\n",
      "149991         7077  2021123121     3   0.0       0  -999  eor\n",
      "149992         7077  2021123122     3   0.0       0  -999  eor\n",
      "149993         7077  2021123123     3   0.0       0  -999  eor\n",
      "\n",
      "[1727939 rows x 7 columns]\n"
     ]
    }
   ],
   "source": [
    "print(create_df(\"precipitation\",\"hourly\",2020,2020,False))"
   ]
  },
  {
   "cell_type": "markdown",
   "metadata": {},
   "source": [
    "### The following code is written just to email me when the files are downloaded/models are trained"
   ]
  },
  {
   "cell_type": "code",
   "execution_count": 16,
   "metadata": {},
   "outputs": [],
   "source": [
    "import smtplib, ssl, os\n",
    "\n",
    "def mail_me():\n",
    "    port = 465  # For SSL\n",
    "    smtp_server = \"smtp.gmail.com\"\n",
    "    sender_email = \"computersays521@gmail.com\"  # Enter your address\n",
    "    receiver_email = \"radulescu_serban_petre@yahoo.com\"  # Enter receiver address\n",
    "    password = open(\"mailingfile.txt\",\"r\").readlines()[0]\n",
    "    message = \"\"\"\\\n",
    "    Subject: Hi there\n",
    "\n",
    "    It seems that what you were working on is done. Or you had some errors. Either way the program is completed. \"\"\"\n",
    "\n",
    "    context = ssl.create_default_context()\n",
    "    with smtplib.SMTP_SSL(smtp_server, port, context=context) as server:\n",
    "        server.login(sender_email, password)\n",
    "        server.sendmail(sender_email, receiver_email, message)"
   ]
  },
  {
   "cell_type": "code",
   "execution_count": 17,
   "metadata": {},
   "outputs": [],
   "source": [
    "mail_me()"
   ]
  }
 ],
 "metadata": {
  "celltoolbar": "Edit Metadata",
  "hide_input": false,
  "interpreter": {
   "hash": "8488b1165f104a905cf6677a9ffc3532c3736b5873a3271a01fb03afba4b3bc1"
  },
  "kernelspec": {
   "display_name": "Python 3.9.12 ('thesis')",
   "language": "python",
   "name": "python3"
  },
  "language_info": {
   "codemirror_mode": {
    "name": "ipython",
    "version": 3
   },
   "file_extension": ".py",
   "mimetype": "text/x-python",
   "name": "python",
   "nbconvert_exporter": "python",
   "pygments_lexer": "ipython3",
   "version": "3.9.12"
  }
 },
 "nbformat": 4,
 "nbformat_minor": 4
}
