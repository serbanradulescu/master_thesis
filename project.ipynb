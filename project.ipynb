{
 "cells": [
  {
   "cell_type": "markdown",
   "metadata": {},
   "source": [
    "# Thesis\n",
    "\n",
    "## Step 1. Exploring the data"
   ]
  },
  {
   "cell_type": "code",
   "execution_count": null,
   "metadata": {},
   "outputs": [],
   "source": [
    "{\n",
    "    \"tags\": [\n",
    "        \"hide-cell\",\n",
    "    ]\n",
    "}\n",
    "import pandas as pd\n",
    "import requests\n",
    "from requests_html import HTMLSession\n",
    "from functions import get_date\n"
   ]
  },
  {
   "cell_type": "markdown",
   "metadata": {},
   "source": [
    "From DWD website __[DWD website](https://opendata.dwd.de/climate_environment/CDC/observations_germany/climate/hourly/)__ we can download the following data:\n",
    "\n",
    "1. air temperature\n",
    "1. cloud types\n",
    "3. cloudiness\n",
    "4. dew point\n",
    "5. extreme wind\n",
    "6. moisture\n",
    "7. precipitation\n",
    "8. pressure\n",
    "9. soil temperature\n",
    "10. solar\n",
    "11. sun\n",
    "12. visibility\n",
    "13. weather phenomena\n",
    "14. wind\n",
    "15. wind synop"
   ]
  },
  {
   "cell_type": "code",
   "execution_count": null,
   "metadata": {},
   "outputs": [],
   "source": [
    "parameters = [\"air_temperature\",\"dew_point\", \"moisture\", \"precipitation\"]\n",
    "def explore_data(parameter:str, start_year:int, end_year:int) -> int:\n",
    "    url = 'https://opendata.dwd.de/climate_environment/CDC/observations_germany/climate/hourly/' + parameter +'/historical/'\n",
    "    try:\n",
    "        session = HTMLSession()\n",
    "        response = session.get(url)\n",
    "        \n",
    "    except requests.exceptions.RequestException as e:\n",
    "        print(e)\n",
    "\n",
    "    links = response.html.absolute_links\n",
    "    i=0\n",
    "    for link in links:\n",
    "        try:\n",
    "            start_interval = int(get_date(link)[0])\n",
    "            end_interval = int(get_date(link)[1])\n",
    "            if ((start_interval <= start_year)  & (end_interval >= end_year)):\n",
    "                i = i+1\n",
    "        except:\n",
    "            pass\n",
    "    return i"
   ]
  },
  {
   "cell_type": "code",
   "execution_count": null,
   "metadata": {},
   "outputs": [],
   "source": [
    "data_balance = pd.DataFrame(columns = parameters, index = [str(i) + \" - present\" for i in range(1950,2020,10)])\n",
    "\n",
    "for parameter in parameters:\n",
    "    for i in range(1950,2020,10):\n",
    "        data_balance[parameter][str(i)] = explore_data(parameter, i, 2020)\n",
    "print(data_balance)"
   ]
  },
  {
   "cell_type": "code",
   "execution_count": null,
   "metadata": {},
   "outputs": [],
   "source": []
  }
 ],
 "metadata": {
  "interpreter": {
   "hash": "8488b1165f104a905cf6677a9ffc3532c3736b5873a3271a01fb03afba4b3bc1"
  },
  "kernelspec": {
   "display_name": "Python 3.9.12 ('thesis')",
   "language": "python",
   "name": "python3"
  },
  "language_info": {
   "codemirror_mode": {
    "name": "ipython",
    "version": 3
   },
   "file_extension": ".py",
   "mimetype": "text/x-python",
   "name": "python",
   "nbconvert_exporter": "python",
   "pygments_lexer": "ipython3",
   "version": "3.9.12"
  },
  "orig_nbformat": 4
 },
 "nbformat": 4,
 "nbformat_minor": 2
}
