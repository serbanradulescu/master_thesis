{
 "cells": [
  {
   "cell_type": "markdown",
   "metadata": {},
   "source": [
    "# Exploring the effects of changing agroclimatological conditions on potential occurence of major winter wheat diseases: A spatio-temporal analysis for Germany from 1960 to today\n",
    "\n",
    "## Step 1. Exploring the data"
   ]
  },
  {
   "cell_type": "markdown",
   "metadata": {},
   "source": [
    "From the __[DWD website](https://opendata.dwd.de/climate_environment/CDC/observations_germany/climate/hourly/)__ we can access the following data:\n",
    "\n",
    "1. air temperature\n",
    "1. cloud types\n",
    "3. cloudiness\n",
    "4. dew point\n",
    "5. extreme wind\n",
    "6. moisture\n",
    "7. precipitation\n",
    "8. pressure\n",
    "9. soil temperature\n",
    "10. solar\n",
    "11. sun\n",
    "12. visibility\n",
    "13. weather phenomena\n",
    "14. wind\n",
    "15. wind synop"
   ]
  },
  {
   "cell_type": "code",
   "execution_count": 1,
   "metadata": {
    "tags": [
     "hide-cell"
    ]
   },
   "outputs": [],
   "source": [
    "import pandas as pd\n",
    "import re\n",
    "import requests\n",
    "from requests_html import HTMLSession\n",
    "from typing import List\n",
    "from functions import get_date, hide_toggle\n",
    "import random"
   ]
  },
  {
   "cell_type": "code",
   "execution_count": 13,
   "metadata": {
    "tags": []
   },
   "outputs": [],
   "source": [
    "def get_links(parameters:List[str], time:str = \"hourly\") -> dict:\n",
    "    dwd_links = {key: None for key in parameters}\n",
    "    for parameter in parameters:\n",
    "        url = 'https://opendata.dwd.de/climate_environment/CDC/observations_germany/climate/' + str(time) + '/' + parameter + '/historical/'\n",
    "        try:\n",
    "            session = HTMLSession()\n",
    "            response = session.get(url)\n",
    "            dwd_links[parameter] = response.html.absolute_links\n",
    "\n",
    "        except requests.exceptions.RequestException as e:\n",
    "            print(e)\n",
    "    return dwd_links\n",
    "\n",
    "def count_datapoints(dwd_links:dict,parameter:str, start_year:int, end_year:int) -> int:\n",
    "    i=0\n",
    "    for link in dwd_links[parameter]:\n",
    "        try:\n",
    "            start_interval = int(get_date(link)[0])\n",
    "            end_interval = int(get_date(link)[1])\n",
    "            if ((start_interval <= start_year)  & (end_interval >= end_year)):\n",
    "                i = i+1\n",
    "        except:\n",
    "            pass\n",
    "    return i"
   ]
  },
  {
   "cell_type": "code",
   "execution_count": 14,
   "metadata": {
    "tags": []
   },
   "outputs": [],
   "source": [
    "\n",
    "def show_available_data(dwd_links:dict, parameters: List[str]):\n",
    "    data_balance = pd.DataFrame(columns = parameters, index = [str(i) + \"'s - present\" for i in range(1950,2020,10)])\n",
    "    for parameter in parameters:\n",
    "        for i in range(1950,2020,10):\n",
    "            data_balance[parameter][str(i)+ \"'s - present\"] = count_datapoints(dwd_links,parameter, i, 2020)\n",
    "    print(data_balance)"
   ]
  },
  {
   "cell_type": "markdown",
   "metadata": {},
   "source": [
    "### From this data, the most relevant for disease models are air temperature, dew point, moisture and precipitation. The following table summarizes the hourly data points we have for each parameter and each period."
   ]
  },
  {
   "cell_type": "code",
   "execution_count": 16,
   "metadata": {
    "scrolled": true
   },
   "outputs": [
    {
     "name": "stdout",
     "output_type": "stream",
     "text": [
      "                 air_temperature dew_point moisture precipitation\n",
      "1950's - present              29        48       48             0\n",
      "1960's - present              67        57       57             0\n",
      "1970's - present              75        59       59             0\n",
      "1980's - present              97       118      118             0\n",
      "1990's - present             129       149      149             0\n",
      "2000's - present             155       185      185           144\n",
      "2010's - present             481       481      481           927\n"
     ]
    }
   ],
   "source": [
    "parameters =[\"air_temperature\",\"dew_point\", \"moisture\", \"precipitation\"]\n",
    "dwd_links = get_links(parameters)\n",
    "show_available_data(dwd_links,parameters)"
   ]
  },
  {
   "cell_type": "code",
   "execution_count": 30,
   "metadata": {},
   "outputs": [],
   "source": [
    "def ids_datapoints(dwd_links:dict,parameter:str, start_year:int, end_year:int) -> List[str]:\n",
    "    list = []\n",
    "    for link in dwd_links[parameter]:\n",
    "        try:\n",
    "            start_interval = int(get_date(link)[0])\n",
    "            end_interval = int(get_date(link)[1])\n",
    "            if ((start_interval <= start_year)  & (end_interval >= end_year)):\n",
    "                id = re.findall(\"_\\d{5}_\",str(link))[0]\n",
    "                ##print(\"link\")\n",
    "                list.append(id)\n",
    "        except:\n",
    "            pass\n",
    "    return list\n",
    "def common_stations(paramer1:str, parameter2:str):\n",
    "    print(f\"{paramer1} and {parameter2} have the following number of stations that measured in:\")\n",
    "    for i in range(1950,2020,10):\n",
    "        list1 = ids_datapoints(dwd_links,paramer1,i,2020)\n",
    "        list2 = ids_datapoints(dwd_links,parameter2,i,2020)\n",
    "        list1_as_set = set(list1)\n",
    "        intersection = list1_as_set.intersection(list2)\n",
    "        intersection_as_list = list(intersection)\n",
    "        print(str(i) + \" - present\" + \": \" + str(len(intersection_as_list)))\n"
   ]
  },
  {
   "cell_type": "code",
   "execution_count": 31,
   "metadata": {},
   "outputs": [
    {
     "name": "stdout",
     "output_type": "stream",
     "text": [
      "dew_point and air_temperature have the following number of stations that measured in:\n",
      "1950 - present: 24\n",
      "1960 - present: 46\n",
      "1970 - present: 52\n",
      "1980 - present: 87\n",
      "1990 - present: 116\n",
      "2000 - present: 143\n",
      "2010 - present: 480\n"
     ]
    }
   ],
   "source": [
    "common_stations(\"dew_point\", \"air_temperature\")"
   ]
  },
  {
   "cell_type": "markdown",
   "metadata": {},
   "source": [
    "## Step 2. Downloading the data"
   ]
  },
  {
   "cell_type": "code",
   "execution_count": null,
   "metadata": {},
   "outputs": [],
   "source": []
  },
  {
   "cell_type": "code",
   "execution_count": null,
   "metadata": {},
   "outputs": [],
   "source": []
  }
 ],
 "metadata": {
  "celltoolbar": "Edit Metadata",
  "hide_input": false,
  "interpreter": {
   "hash": "8488b1165f104a905cf6677a9ffc3532c3736b5873a3271a01fb03afba4b3bc1"
  },
  "kernelspec": {
   "display_name": "Python 3 (ipykernel)",
   "language": "python",
   "name": "python3"
  },
  "language_info": {
   "codemirror_mode": {
    "name": "ipython",
    "version": 3
   },
   "file_extension": ".py",
   "mimetype": "text/x-python",
   "name": "python",
   "nbconvert_exporter": "python",
   "pygments_lexer": "ipython3",
   "version": "3.9.12"
  }
 },
 "nbformat": 4,
 "nbformat_minor": 4
}
