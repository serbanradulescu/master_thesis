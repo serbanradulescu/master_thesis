{
 "cells": [
  {
   "cell_type": "markdown",
   "metadata": {},
   "source": [
    "# Thesis\n",
    "\n",
    "## Step 1. Collecting data"
   ]
  },
  {
   "cell_type": "code",
   "execution_count": 49,
   "metadata": {},
   "outputs": [],
   "source": [
    "import pandas as pd\n",
    "import requests\n",
    "from requests_html import HTMLSession\n",
    "from functions import get_date"
   ]
  },
  {
   "cell_type": "code",
   "execution_count": 52,
   "metadata": {},
   "outputs": [],
   "source": [
    "url = 'https://opendata.dwd.de/climate_environment/CDC/observations_germany/climate/hourly/moisture/historical/'\n",
    "try:\n",
    "    session = HTMLSession()\n",
    "    response = session.get(url)\n",
    "     \n",
    "except requests.exceptions.RequestException as e:\n",
    "    print(e)\n",
    "\n",
    "links = response.html.absolute_links"
   ]
  },
  {
   "cell_type": "code",
   "execution_count": 56,
   "metadata": {},
   "outputs": [
    {
     "ename": "IndentationError",
     "evalue": "expected an indented block (1528266431.py, line 7)",
     "output_type": "error",
     "traceback": [
      "\u001b[0;36m  Input \u001b[0;32mIn [56]\u001b[0;36m\u001b[0m\n\u001b[0;31m    i = i+1\u001b[0m\n\u001b[0m    ^\u001b[0m\n\u001b[0;31mIndentationError\u001b[0m\u001b[0;31m:\u001b[0m expected an indented block\n"
     ]
    }
   ],
   "source": [
    "i=0\n",
    "for link in links:\n",
    "    try:\n",
    "        start_year = int(get_date(link)[0])\n",
    "        end_year = int(get_date(link)[1])\n",
    "        if (start_year >= 1960):\n",
    "        i = i+1\n",
    "    except:\n",
    "        pass\n",
    "print(i)"
   ]
  }
 ],
 "metadata": {
  "interpreter": {
   "hash": "8488b1165f104a905cf6677a9ffc3532c3736b5873a3271a01fb03afba4b3bc1"
  },
  "kernelspec": {
   "display_name": "Python 3.9.12 ('thesis')",
   "language": "python",
   "name": "python3"
  },
  "language_info": {
   "codemirror_mode": {
    "name": "ipython",
    "version": 3
   },
   "file_extension": ".py",
   "mimetype": "text/x-python",
   "name": "python",
   "nbconvert_exporter": "python",
   "pygments_lexer": "ipython3",
   "version": "3.9.12"
  },
  "orig_nbformat": 4
 },
 "nbformat": 4,
 "nbformat_minor": 2
}
